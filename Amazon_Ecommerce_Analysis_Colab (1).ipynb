{
  "cells": [
    {
      "cell_type": "markdown",
      "metadata": {},
      "source": [
        "# Project: Amazon E-Commerce Data Analysis\n",
        "\n",
        "## Project Phases:\n",
        "- **Phase 1**: Data Collection (Rainforest API, Selenium) and Processing (cleaning, NetworkX graph).\n",
        "- **Phase 2**: Visualization (NetworkX graph, heatmap for prices).\n",
        "- **Phase 3**: Point Cloud Analysis and Gradio UI."
      ]
    },
    {
      "cell_type": "code",
      "execution_count": 81,
      "metadata": {},
      "outputs": [
        {
          "name": "stdout",
          "output_type": "stream",
          "text": [
            "Requirement already satisfied: requests in c:\\users\\darwi\\anaconda3\\lib\\site-packages (2.32.3)\n",
            "Requirement already satisfied: selenium in c:\\users\\darwi\\anaconda3\\lib\\site-packages (4.31.0)\n",
            "Requirement already satisfied: pandas in c:\\users\\darwi\\anaconda3\\lib\\site-packages (2.2.2)\n",
            "Requirement already satisfied: networkx in c:\\users\\darwi\\anaconda3\\lib\\site-packages (3.3)\n",
            "Requirement already satisfied: matplotlib in c:\\users\\darwi\\anaconda3\\lib\\site-packages (3.9.2)\n",
            "Requirement already satisfied: seaborn in c:\\users\\darwi\\anaconda3\\lib\\site-packages (0.13.2)\n",
            "Requirement already satisfied: plotly in c:\\users\\darwi\\anaconda3\\lib\\site-packages (5.24.1)\n",
            "Requirement already satisfied: gradio in c:\\users\\darwi\\anaconda3\\lib\\site-packages (5.29.0)\n",
            "Requirement already satisfied: webdriver_manager in c:\\users\\darwi\\anaconda3\\lib\\site-packages (4.0.2)\n",
            "Requirement already satisfied: charset-normalizer<4,>=2 in c:\\users\\darwi\\anaconda3\\lib\\site-packages (from requests) (3.3.2)\n",
            "Requirement already satisfied: idna<4,>=2.5 in c:\\users\\darwi\\anaconda3\\lib\\site-packages (from requests) (3.7)\n",
            "Requirement already satisfied: urllib3<3,>=1.21.1 in c:\\users\\darwi\\anaconda3\\lib\\site-packages (from requests) (2.2.3)\n",
            "Requirement already satisfied: certifi>=2017.4.17 in c:\\users\\darwi\\anaconda3\\lib\\site-packages (from requests) (2024.12.14)\n",
            "Requirement already satisfied: trio~=0.17 in c:\\users\\darwi\\anaconda3\\lib\\site-packages (from selenium) (0.29.0)\n",
            "Requirement already satisfied: trio-websocket~=0.9 in c:\\users\\darwi\\anaconda3\\lib\\site-packages (from selenium) (0.12.2)\n",
            "Requirement already satisfied: typing_extensions~=4.9 in c:\\users\\darwi\\anaconda3\\lib\\site-packages (from selenium) (4.12.2)\n",
            "Requirement already satisfied: websocket-client~=1.8 in c:\\users\\darwi\\anaconda3\\lib\\site-packages (from selenium) (1.8.0)\n",
            "Requirement already satisfied: numpy>=1.26.0 in c:\\users\\darwi\\anaconda3\\lib\\site-packages (from pandas) (1.26.4)\n",
            "Requirement already satisfied: python-dateutil>=2.8.2 in c:\\users\\darwi\\anaconda3\\lib\\site-packages (from pandas) (2.9.0.post0)\n",
            "Requirement already satisfied: pytz>=2020.1 in c:\\users\\darwi\\anaconda3\\lib\\site-packages (from pandas) (2024.1)\n",
            "Requirement already satisfied: tzdata>=2022.7 in c:\\users\\darwi\\anaconda3\\lib\\site-packages (from pandas) (2023.3)\n",
            "Requirement already satisfied: contourpy>=1.0.1 in c:\\users\\darwi\\anaconda3\\lib\\site-packages (from matplotlib) (1.2.0)\n",
            "Requirement already satisfied: cycler>=0.10 in c:\\users\\darwi\\anaconda3\\lib\\site-packages (from matplotlib) (0.11.0)\n",
            "Requirement already satisfied: fonttools>=4.22.0 in c:\\users\\darwi\\anaconda3\\lib\\site-packages (from matplotlib) (4.51.0)\n",
            "Requirement already satisfied: kiwisolver>=1.3.1 in c:\\users\\darwi\\anaconda3\\lib\\site-packages (from matplotlib) (1.4.4)\n",
            "Requirement already satisfied: packaging>=20.0 in c:\\users\\darwi\\anaconda3\\lib\\site-packages (from matplotlib) (24.1)\n",
            "Requirement already satisfied: pillow>=8 in c:\\users\\darwi\\anaconda3\\lib\\site-packages (from matplotlib) (10.4.0)\n",
            "Requirement already satisfied: pyparsing>=2.3.1 in c:\\users\\darwi\\anaconda3\\lib\\site-packages (from matplotlib) (3.1.2)\n",
            "Requirement already satisfied: tenacity>=6.2.0 in c:\\users\\darwi\\anaconda3\\lib\\site-packages (from plotly) (8.1.0)\n",
            "Requirement already satisfied: aiofiles<25.0,>=22.0 in c:\\users\\darwi\\anaconda3\\lib\\site-packages (from gradio) (24.1.0)\n",
            "Requirement already satisfied: anyio<5.0,>=3.0 in c:\\users\\darwi\\anaconda3\\lib\\site-packages (from gradio) (4.2.0)\n",
            "Requirement already satisfied: fastapi<1.0,>=0.115.2 in c:\\users\\darwi\\anaconda3\\lib\\site-packages (from gradio) (0.115.11)\n",
            "Requirement already satisfied: ffmpy in c:\\users\\darwi\\anaconda3\\lib\\site-packages (from gradio) (0.5.0)\n",
            "Requirement already satisfied: gradio-client==1.10.0 in c:\\users\\darwi\\anaconda3\\lib\\site-packages (from gradio) (1.10.0)\n",
            "Requirement already satisfied: groovy~=0.1 in c:\\users\\darwi\\anaconda3\\lib\\site-packages (from gradio) (0.1.2)\n",
            "Requirement already satisfied: httpx>=0.24.1 in c:\\users\\darwi\\anaconda3\\lib\\site-packages (from gradio) (0.28.1)\n",
            "Requirement already satisfied: huggingface-hub>=0.28.1 in c:\\users\\darwi\\anaconda3\\lib\\site-packages (from gradio) (0.29.3)\n",
            "Requirement already satisfied: jinja2<4.0 in c:\\users\\darwi\\anaconda3\\lib\\site-packages (from gradio) (3.1.4)\n",
            "Requirement already satisfied: markupsafe<4.0,>=2.0 in c:\\users\\darwi\\anaconda3\\lib\\site-packages (from gradio) (2.1.3)\n",
            "Requirement already satisfied: orjson~=3.0 in c:\\users\\darwi\\anaconda3\\lib\\site-packages (from gradio) (3.10.15)\n",
            "Requirement already satisfied: pydantic<2.12,>=2.0 in c:\\users\\darwi\\anaconda3\\lib\\site-packages (from gradio) (2.10.6)\n",
            "Requirement already satisfied: pydub in c:\\users\\darwi\\anaconda3\\lib\\site-packages (from gradio) (0.25.1)\n",
            "Requirement already satisfied: python-multipart>=0.0.18 in c:\\users\\darwi\\anaconda3\\lib\\site-packages (from gradio) (0.0.20)\n",
            "Requirement already satisfied: pyyaml<7.0,>=5.0 in c:\\users\\darwi\\anaconda3\\lib\\site-packages (from gradio) (6.0.2)\n",
            "Requirement already satisfied: ruff>=0.9.3 in c:\\users\\darwi\\anaconda3\\lib\\site-packages (from gradio) (0.11.8)\n",
            "Requirement already satisfied: safehttpx<0.2.0,>=0.1.6 in c:\\users\\darwi\\anaconda3\\lib\\site-packages (from gradio) (0.1.6)\n",
            "Requirement already satisfied: semantic-version~=2.0 in c:\\users\\darwi\\anaconda3\\lib\\site-packages (from gradio) (2.10.0)\n",
            "Requirement already satisfied: starlette<1.0,>=0.40.0 in c:\\users\\darwi\\anaconda3\\lib\\site-packages (from gradio) (0.46.1)\n",
            "Requirement already satisfied: tomlkit<0.14.0,>=0.12.0 in c:\\users\\darwi\\anaconda3\\lib\\site-packages (from gradio) (0.13.2)\n",
            "Requirement already satisfied: typer<1.0,>=0.12 in c:\\users\\darwi\\anaconda3\\lib\\site-packages (from gradio) (0.15.3)\n",
            "Requirement already satisfied: uvicorn>=0.14.0 in c:\\users\\darwi\\anaconda3\\lib\\site-packages (from gradio) (0.34.0)\n",
            "Requirement already satisfied: fsspec in c:\\users\\darwi\\anaconda3\\lib\\site-packages (from gradio-client==1.10.0->gradio) (2024.6.1)\n",
            "Requirement already satisfied: websockets<16.0,>=10.0 in c:\\users\\darwi\\anaconda3\\lib\\site-packages (from gradio-client==1.10.0->gradio) (15.0.1)\n",
            "Requirement already satisfied: python-dotenv in c:\\users\\darwi\\anaconda3\\lib\\site-packages (from webdriver_manager) (1.0.1)\n",
            "Requirement already satisfied: sniffio>=1.1 in c:\\users\\darwi\\anaconda3\\lib\\site-packages (from anyio<5.0,>=3.0->gradio) (1.3.0)\n",
            "Requirement already satisfied: httpcore==1.* in c:\\users\\darwi\\anaconda3\\lib\\site-packages (from httpx>=0.24.1->gradio) (1.0.2)\n",
            "Requirement already satisfied: h11<0.15,>=0.13 in c:\\users\\darwi\\anaconda3\\lib\\site-packages (from httpcore==1.*->httpx>=0.24.1->gradio) (0.14.0)\n",
            "Requirement already satisfied: filelock in c:\\users\\darwi\\anaconda3\\lib\\site-packages (from huggingface-hub>=0.28.1->gradio) (3.13.1)\n",
            "Requirement already satisfied: tqdm>=4.42.1 in c:\\users\\darwi\\anaconda3\\lib\\site-packages (from huggingface-hub>=0.28.1->gradio) (4.66.5)\n",
            "Requirement already satisfied: annotated-types>=0.6.0 in c:\\users\\darwi\\anaconda3\\lib\\site-packages (from pydantic<2.12,>=2.0->gradio) (0.6.0)\n",
            "Requirement already satisfied: pydantic-core==2.27.2 in c:\\users\\darwi\\anaconda3\\lib\\site-packages (from pydantic<2.12,>=2.0->gradio) (2.27.2)\n",
            "Requirement already satisfied: six>=1.5 in c:\\users\\darwi\\anaconda3\\lib\\site-packages (from python-dateutil>=2.8.2->pandas) (1.16.0)\n",
            "Requirement already satisfied: attrs>=23.2.0 in c:\\users\\darwi\\anaconda3\\lib\\site-packages (from trio~=0.17->selenium) (25.3.0)\n",
            "Requirement already satisfied: sortedcontainers in c:\\users\\darwi\\anaconda3\\lib\\site-packages (from trio~=0.17->selenium) (2.4.0)\n",
            "Requirement already satisfied: outcome in c:\\users\\darwi\\anaconda3\\lib\\site-packages (from trio~=0.17->selenium) (1.3.0.post0)\n",
            "Requirement already satisfied: cffi>=1.14 in c:\\users\\darwi\\anaconda3\\lib\\site-packages (from trio~=0.17->selenium) (1.17.1)\n",
            "Requirement already satisfied: wsproto>=0.14 in c:\\users\\darwi\\anaconda3\\lib\\site-packages (from trio-websocket~=0.9->selenium) (1.2.0)\n",
            "Requirement already satisfied: click>=8.0.0 in c:\\users\\darwi\\anaconda3\\lib\\site-packages (from typer<1.0,>=0.12->gradio) (8.1.8)\n",
            "Requirement already satisfied: shellingham>=1.3.0 in c:\\users\\darwi\\anaconda3\\lib\\site-packages (from typer<1.0,>=0.12->gradio) (1.5.0)\n",
            "Requirement already satisfied: rich>=10.11.0 in c:\\users\\darwi\\anaconda3\\lib\\site-packages (from typer<1.0,>=0.12->gradio) (13.7.1)\n",
            "Requirement already satisfied: pysocks!=1.5.7,<2.0,>=1.5.6 in c:\\users\\darwi\\anaconda3\\lib\\site-packages (from urllib3[socks]<3,>=1.26->selenium) (1.7.1)\n",
            "Requirement already satisfied: pycparser in c:\\users\\darwi\\anaconda3\\lib\\site-packages (from cffi>=1.14->trio~=0.17->selenium) (2.21)\n",
            "Requirement already satisfied: colorama in c:\\users\\darwi\\anaconda3\\lib\\site-packages (from click>=8.0.0->typer<1.0,>=0.12->gradio) (0.4.6)\n",
            "Requirement already satisfied: markdown-it-py>=2.2.0 in c:\\users\\darwi\\anaconda3\\lib\\site-packages (from rich>=10.11.0->typer<1.0,>=0.12->gradio) (2.2.0)\n",
            "Requirement already satisfied: pygments<3.0.0,>=2.13.0 in c:\\users\\darwi\\anaconda3\\lib\\site-packages (from rich>=10.11.0->typer<1.0,>=0.12->gradio) (2.15.1)\n",
            "Requirement already satisfied: mdurl~=0.1 in c:\\users\\darwi\\anaconda3\\lib\\site-packages (from markdown-it-py>=2.2.0->rich>=10.11.0->typer<1.0,>=0.12->gradio) (0.1.0)\n",
            "Note: you may need to restart the kernel to use updated packages.\n"
          ]
        },
        {
          "name": "stderr",
          "output_type": "stream",
          "text": [
            "'apt-get' is not recognized as an internal or external command,\n",
            "operable program or batch file.\n",
            "'apt-get' is not recognized as an internal or external command,\n",
            "operable program or batch file.\n"
          ]
        }
      ],
      "source": [
        "%pip install requests selenium pandas networkx matplotlib seaborn plotly gradio webdriver_manager\n",
        "!apt-get update\n",
        "!apt-get install -y chromium chromium-driver libnss3 libgconf-2-4\n",
        "\n",
        "import requests\n",
        "import pandas as pd\n",
        "import networkx as nx\n",
        "import matplotlib.pyplot as plt\n",
        "import seaborn as sns\n",
        "import plotly.express as px\n",
        "import gradio as gr\n",
        "from selenium import webdriver\n",
        "from selenium.webdriver.chrome.service import Service\n",
        "from selenium.webdriver.common.by import By\n",
        "from selenium.webdriver.chrome.options import Options\n",
        "from webdriver_manager.chrome import ChromeDriverManager\n",
        "import time\n",
        "import re\n",
        "\n",
        "chrome_options = Options()\n",
        "chrome_options.add_argument('--headless')\n",
        "chrome_options.add_argument('--no-sandbox')\n",
        "chrome_options.add_argument('--disable-dev-shm-usage')\n",
        "chrome_options.add_argument('--disable-gpu')\n",
        "chrome_options.add_argument('window-size=1920x1080')\n"
      ]
    },
    {
      "cell_type": "markdown",
      "metadata": {},
      "source": [
        "## Phase 1: Data Collection\n",
        "\n",
        "### Rainforest API: Fetch iPhone 14 Product Data"
      ]
    },
    {
      "cell_type": "code",
      "execution_count": 73,
      "metadata": {},
      "outputs": [
        {
          "name": "stdout",
          "output_type": "stream",
          "text": [
            "Collected Product Data:\n",
            "                                               title   price currency  rating  \\\n",
            "0  Apple iPhone SE (2nd Generation), 64GB, Red - ...  100.00      USD     4.2   \n",
            "1  Apple iPhone 11 [64GB, Black] + Carrier Subscr...   91.39      USD     4.4   \n",
            "2  Apple iPhone XR, US Version, 64GB, Black - AT&...  164.90      USD     4.4   \n",
            "3  Apple iPhone XS, US Version, 64GB, Space Gray ...  159.90      USD     4.3   \n",
            "4  Apple iPhone 11 Pro Max [64GB, Space Gray] + C...  148.72      USD     3.6   \n",
            "\n",
            "   reviews country        asin  \n",
            "0        0      US  B088N8TF64  \n",
            "1        0      US  B0844NJJF3  \n",
            "2        0      US  B07T1L2SBK  \n",
            "3        0      US  B07K8RQVHF  \n",
            "4        0      US  B084GSPKMV  \n"
          ]
        }
      ],
      "source": [
        "# Rainforest API configuration\n",
        "RAINFOREST_API_KEY = \"1951CB94DC4246D38503225430F0A0D4\"  \n",
        "COUNTRIES = {\n",
        "    'us': 'amazon.com',\n",
        "    'uk': 'amazon.co.uk',\n",
        "    'de': 'amazon.de',\n",
        "    'fr': 'amazon.fr',\n",
        "    'jp': 'amazon.co.jp'\n",
        "}\n",
        "PRODUCT_QUERY = 'Apple iPhone 14'\n",
        "\n",
        "def fetch_rainforest_data(query, country, domain):\n",
        "    params = {\n",
        "        'api_key': RAINFOREST_API_KEY,\n",
        "        'type': 'search',\n",
        "        'amazon_domain': domain,\n",
        "        'search_term': query,\n",
        "        'sort_by': 'price_low_to_high'\n",
        "    }\n",
        "    try:\n",
        "        response = requests.get('https://api.rainforestapi.com/request', params=params)\n",
        "        response.raise_for_status()\n",
        "        data = response.json()\n",
        "        return data.get('search_results', [])\n",
        "    except Exception as e:\n",
        "        print(f'Error fetching data for {country}: {e}')\n",
        "        return []\n",
        "\n",
        "\n",
        "product_data = []\n",
        "for country, domain in COUNTRIES.items():\n",
        "    results = fetch_rainforest_data(PRODUCT_QUERY, country, domain)\n",
        "    for item in results[:5]:  \n",
        "        product_data.append({\n",
        "            'title': item.get('title', 'No title'),\n",
        "            'price': item.get('price', {}).get('value', 0),\n",
        "            'currency': item.get('price', {}).get('currency', 'USD'),\n",
        "            'rating': item.get('rating', 0),\n",
        "            'reviews': item.get('reviews', 0),\n",
        "            'country': country.upper(),\n",
        "            'asin': item.get('asin', 'No ASIN')\n",
        "        })\n",
        "\n",
        "\n",
        "product_df = pd.DataFrame(product_data)\n",
        "print('Collected Product Data:')\n",
        "print(product_df.head())\n",
        "\n",
        "\n",
        "product_df.to_csv('iphone_14_data.csv', index=False)"
      ]
    },
    {
      "cell_type": "markdown",
      "metadata": {},
      "source": [
        "### Selenium: Scrape Dynamic Content\n"
      ]
    },
    {
      "cell_type": "code",
      "execution_count": 74,
      "metadata": {},
      "outputs": [
        {
          "name": "stdout",
          "output_type": "stream",
          "text": [
            "Frequently Bought Together Items:\n",
            "[]\n"
          ]
        }
      ],
      "source": [
        "def scrape_frequently_bought_together(asin, country='com'):\n",
        "    url = f'https://www.amazon.{country}/dp/{asin}'\n",
        "    try:\n",
        "        driver.get(url)\n",
        "        time.sleep(5)  \n",
        "        \n",
        "        related_items = []\n",
        "        elements = driver.find_elements(By.CSS_SELECTOR, 'div#desktop_buybox_btf div.a-section span')\n",
        "        for elem in elements:\n",
        "            text = elem.text\n",
        "            if 'Frequently bought together' in text:\n",
        "                # Extract related product titles\n",
        "                related_elements = driver.find_elements(By.CSS_SELECTOR, 'div#desktop_buybox_btf div.a-section a')\n",
        "                for rel_elem in related_elements:\n",
        "                    title = rel_elem.text.strip()\n",
        "                    if title and title not in related_items:\n",
        "                        related_items.append(title)\n",
        "        return related_items\n",
        "    except Exception as e:\n",
        "        print(f'Error scraping {url}: {e}')\n",
        "        return []\n",
        "\n",
        "sample_asin = product_df[product_df['country'] == 'US']['asin'].iloc[0] if not product_df.empty else 'B08X9Y9Z1A'\n",
        "related_items = scrape_frequently_bought_together(sample_asin, 'com')\n",
        "print('Frequently Bought Together Items:')\n",
        "print(related_items)\n",
        "\n",
        "driver.quit()"
      ]
    },
    {
      "cell_type": "markdown",
      "metadata": {},
      "source": [
        "## Phase 1: Data Processing\n",
        "\n",
        "### Clean and Preprocess Data"
      ]
    },
    {
      "cell_type": "code",
      "execution_count": 75,
      "metadata": {},
      "outputs": [
        {
          "name": "stdout",
          "output_type": "stream",
          "text": [
            "Cleaned DataFrame:\n",
            "                                               title   price currency  \\\n",
            "0  Apple iPhone SE (2nd Generation), 64GB, Red - ...  100.00      USD   \n",
            "1  Apple iPhone 11 [64GB, Black] + Carrier Subscr...   91.39      USD   \n",
            "2  Apple iPhone XR, US Version, 64GB, Black - AT&...  164.90      USD   \n",
            "3  Apple iPhone XS, US Version, 64GB, Space Gray ...  159.90      USD   \n",
            "4  Apple iPhone 11 Pro Max [64GB, Space Gray] + C...  148.72      USD   \n",
            "\n",
            "   price_usd country  \n",
            "0     100.00      US  \n",
            "1      91.39      US  \n",
            "2     164.90      US  \n",
            "3     159.90      US  \n",
            "4     148.72      US  \n"
          ]
        }
      ],
      "source": [
        "product_df['price'] = product_df['price'].fillna(0)\n",
        "product_df['rating'] = product_df['rating'].fillna(0)\n",
        "product_df['reviews'] = product_df['reviews'].fillna(0)\n",
        "\n",
        "conversion_rates = {'USD': 1, 'GBP': 1.3, 'EUR': 1.1, 'JPY': 0.0067}\n",
        "product_df['price_usd'] = product_df.apply(\n",
        "    lambda row: row['price'] * conversion_rates.get(row['currency'], 1), axis=1\n",
        ")\n",
        "\n",
        "print('Cleaned DataFrame:')\n",
        "print(product_df[['title', 'price', 'currency', 'price_usd', 'country']].head())"
      ]
    },
    {
      "cell_type": "markdown",
      "metadata": {},
      "source": [
        "### Construct NetworkX Graph"
      ]
    },
    {
      "cell_type": "code",
      "execution_count": 76,
      "metadata": {},
      "outputs": [
        {
          "name": "stdout",
          "output_type": "stream",
          "text": [
            "Inspecting product_df for edge creation:\n",
            "         asin                                              title country\n",
            "0  B088N8TF64  Apple iPhone SE (2nd Generation), 64GB, Red - ...      US\n",
            "1  B0844NJJF3  Apple iPhone 11 [64GB, Black] + Carrier Subscr...      US\n",
            "2  B07T1L2SBK  Apple iPhone XR, US Version, 64GB, Black - AT&...      US\n",
            "3  B07K8RQVHF  Apple iPhone XS, US Version, 64GB, Space Gray ...      US\n",
            "4  B084GSPKMV  Apple iPhone 11 Pro Max [64GB, Space Gray] + C...      US\n",
            "5  B0797QCXS6         Apple iPhone 8, 64GB, Space Grey (Renewed)      UK\n",
            "6  B08D351RSN  Apple iPhone SE 2nd generation, 64 GB, Red (Re...      UK\n",
            "7  B08D34BNKP  Apple iPhone SE 2nd Generation, 64GB, Black (R...      UK\n",
            "8  B08D2N6P3X  Apple iPhone SE (2nd Gen) 128GB - (PRODUCT)RED...      UK\n",
            "9  B08D33VS6H  Apple iPhone SE 2nd Generation, 64GB, White (R...      UK\n",
            "Added edge: Apple iPhone SE (2nd - Apple iPhone 11 [64G (Country: US)\n",
            "Added edge: Apple iPhone SE (2nd - Apple iPhone XR, US  (Country: US)\n",
            "Added edge: Apple iPhone SE (2nd - Apple iPhone XS, US  (Country: US)\n",
            "Added edge: Apple iPhone SE (2nd - Apple iPhone 11 Pro  (Country: US)\n",
            "Added edge: Apple iPhone 11 [64G - Apple iPhone XR, US  (Country: US)\n",
            "Added edge: Apple iPhone 11 [64G - Apple iPhone XS, US  (Country: US)\n",
            "Added edge: Apple iPhone 11 [64G - Apple iPhone 11 Pro  (Country: US)\n",
            "Added edge: Apple iPhone XR, US  - Apple iPhone XS, US  (Country: US)\n",
            "Added edge: Apple iPhone XR, US  - Apple iPhone 11 Pro  (Country: US)\n",
            "Added edge: Apple iPhone XS, US  - Apple iPhone 11 Pro  (Country: US)\n",
            "Added edge: Apple iPhone 8, 64GB - Apple iPhone SE 2nd  (Country: UK)\n",
            "Added edge: Apple iPhone 8, 64GB - Apple iPhone SE 2nd  (Country: UK)\n",
            "Added edge: Apple iPhone 8, 64GB - Apple iPhone SE (2nd (Country: UK)\n",
            "Added edge: Apple iPhone 8, 64GB - Apple iPhone SE 2nd  (Country: UK)\n",
            "Added edge: Apple iPhone SE 2nd  - Apple iPhone SE 2nd  (Country: UK)\n",
            "Added edge: Apple iPhone SE 2nd  - Apple iPhone SE (2nd (Country: UK)\n",
            "Added edge: Apple iPhone SE 2nd  - Apple iPhone SE 2nd  (Country: UK)\n",
            "Added edge: Apple iPhone SE 2nd  - Apple iPhone SE (2nd (Country: UK)\n",
            "Added edge: Apple iPhone SE 2nd  - Apple iPhone SE 2nd  (Country: UK)\n",
            "Added edge: Apple iPhone SE (2nd - Apple iPhone SE 2nd  (Country: UK)\n",
            "Added edge: Apple iPhone 8 64GB  - Apple iPhone SE 2. G (Country: DE)\n",
            "Added edge: Apple iPhone 8 64GB  - Apple iPhone XR 64GB (Country: DE)\n",
            "Added edge: Apple iPhone 8 64GB  - Apple iPhone 11, 64G (Country: DE)\n",
            "Added edge: Apple iPhone 8 64GB  - Apple iPhone SE 3.Ge (Country: DE)\n",
            "Added edge: Apple iPhone SE 2. G - Apple iPhone XR 64GB (Country: DE)\n",
            "Added edge: Apple iPhone SE 2. G - Apple iPhone 11, 64G (Country: DE)\n",
            "Added edge: Apple iPhone SE 2. G - Apple iPhone SE 3.Ge (Country: DE)\n",
            "Added edge: Apple iPhone XR 64GB - Apple iPhone 11, 64G (Country: DE)\n",
            "Added edge: Apple iPhone XR 64GB - Apple iPhone SE 3.Ge (Country: DE)\n",
            "Added edge: Apple iPhone 11, 64G - Apple iPhone SE 3.Ge (Country: DE)\n",
            "Added edge: Apple iPhone 6S 4.7- - Apple iPhone Se 32GB (Country: FR)\n",
            "Added edge: Apple iPhone 6S 4.7- - iPhone SE 2e Générat (Country: FR)\n",
            "Added edge: Apple iPhone 6S 4.7- - Apple iPhone 6S 64 G (Country: FR)\n",
            "Added edge: Apple iPhone 6S 4.7- - Apple Iphone Xr 64Go (Country: FR)\n",
            "Added edge: Apple iPhone Se 32GB - iPhone SE 2e Générat (Country: FR)\n",
            "Added edge: Apple iPhone Se 32GB - Apple iPhone 6S 64 G (Country: FR)\n",
            "Added edge: Apple iPhone Se 32GB - Apple Iphone Xr 64Go (Country: FR)\n",
            "Added edge: iPhone SE 2e Générat - Apple iPhone 6S 64 G (Country: FR)\n",
            "Added edge: iPhone SE 2e Générat - Apple Iphone Xr 64Go (Country: FR)\n",
            "Added edge: Apple iPhone 6S 64 G - Apple Iphone Xr 64Go (Country: FR)\n",
            "Added edge: 【整備済み品】 Apple iPhone - 【整備済み品】 Apple iPhone (Country: JP)\n",
            "Added edge: 【整備済み品】 Apple iPhone - 【整備済み品】 Apple iPhone (Country: JP)\n",
            "Added edge: 【整備済み品】 Apple iPhone - 【整備済み品】 Apple iPhone (Country: JP)\n",
            "Added edge: 【整備済み品】 Apple iPhone - 【整備済み品】 Apple iPhone (Country: JP)\n",
            "Added edge: 【整備済み品】 Apple iPhone - 【整備済み品】 Apple iPhone (Country: JP)\n",
            "Added edge: 【整備済み品】 Apple iPhone - 【整備済み品】 Apple iPhone (Country: JP)\n",
            "Added edge: 【整備済み品】 Apple iPhone - 【整備済み品】 Apple iPhone (Country: JP)\n",
            "Added edge: 【整備済み品】 Apple iPhone - 【整備済み品】 Apple iPhone (Country: JP)\n",
            "Added edge: 【整備済み品】 Apple iPhone - 【整備済み品】 Apple iPhone (Country: JP)\n",
            "Added edge: 【整備済み品】 Apple iPhone - 【整備済み品】 Apple iPhone (Country: JP)\n",
            "Total edges added: 50\n"
          ]
        }
      ],
      "source": [
        "G = nx.Graph()\n",
        "\n",
        "\n",
        "for _, row in product_df.iterrows():\n",
        "    G.add_node(row['asin'], title=row['title'], country=row['country'])\n",
        "\n",
        "\n",
        "print('Inspecting product_df for edge creation:')\n",
        "print(product_df[['asin', 'title', 'country']].head(10))  \n",
        "edge_count = 0\n",
        "for i, row1 in product_df.iterrows():\n",
        "    for j, row2 in product_df.iterrows():\n",
        "        if i < j:  \n",
        "            if row1['country'] == row2['country']:\n",
        "                title1 = row1['title'].lower()\n",
        "                title2 = row2['title'].lower()\n",
        "                if 'iphone' in title1 and 'iphone' in title2:\n",
        "                    G.add_edge(row1['asin'], row2['asin'], relationship='same_country_iphone')\n",
        "                    edge_count += 1\n",
        "                    print(f'Added edge: {row1[\"title\"][:20]} - {row2[\"title\"][:20]} (Country: {row1[\"country\"]})')\n",
        "\n",
        "print(f'Total edges added: {edge_count}')"
      ]
    },
    {
      "cell_type": "markdown",
      "metadata": {},
      "source": [
        "## Phase 2: Visualization"
      ]
    },
    {
      "cell_type": "code",
      "execution_count": 77,
      "metadata": {},
      "outputs": [
        {
          "name": "stderr",
          "output_type": "stream",
          "text": [
            "C:\\Users\\darwi\\AppData\\Local\\Temp\\ipykernel_17308\\1941683787.py:7: UserWarning:\n",
            "\n",
            "Glyph 12304 (\\N{LEFT BLACK LENTICULAR BRACKET}) missing from font(s) DejaVu Sans.\n",
            "\n",
            "C:\\Users\\darwi\\AppData\\Local\\Temp\\ipykernel_17308\\1941683787.py:7: UserWarning:\n",
            "\n",
            "Glyph 25972 (\\N{CJK UNIFIED IDEOGRAPH-6574}) missing from font(s) DejaVu Sans.\n",
            "\n",
            "C:\\Users\\darwi\\AppData\\Local\\Temp\\ipykernel_17308\\1941683787.py:7: UserWarning:\n",
            "\n",
            "Glyph 20633 (\\N{CJK UNIFIED IDEOGRAPH-5099}) missing from font(s) DejaVu Sans.\n",
            "\n",
            "C:\\Users\\darwi\\AppData\\Local\\Temp\\ipykernel_17308\\1941683787.py:7: UserWarning:\n",
            "\n",
            "Glyph 28168 (\\N{CJK UNIFIED IDEOGRAPH-6E08}) missing from font(s) DejaVu Sans.\n",
            "\n",
            "C:\\Users\\darwi\\AppData\\Local\\Temp\\ipykernel_17308\\1941683787.py:7: UserWarning:\n",
            "\n",
            "Glyph 12415 (\\N{HIRAGANA LETTER MI}) missing from font(s) DejaVu Sans.\n",
            "\n",
            "C:\\Users\\darwi\\AppData\\Local\\Temp\\ipykernel_17308\\1941683787.py:7: UserWarning:\n",
            "\n",
            "Glyph 21697 (\\N{CJK UNIFIED IDEOGRAPH-54C1}) missing from font(s) DejaVu Sans.\n",
            "\n",
            "C:\\Users\\darwi\\AppData\\Local\\Temp\\ipykernel_17308\\1941683787.py:7: UserWarning:\n",
            "\n",
            "Glyph 12305 (\\N{RIGHT BLACK LENTICULAR BRACKET}) missing from font(s) DejaVu Sans.\n",
            "\n",
            "c:\\Users\\darwi\\anaconda3\\Lib\\site-packages\\IPython\\core\\pylabtools.py:170: UserWarning:\n",
            "\n",
            "Glyph 12304 (\\N{LEFT BLACK LENTICULAR BRACKET}) missing from font(s) DejaVu Sans.\n",
            "\n",
            "c:\\Users\\darwi\\anaconda3\\Lib\\site-packages\\IPython\\core\\pylabtools.py:170: UserWarning:\n",
            "\n",
            "Glyph 25972 (\\N{CJK UNIFIED IDEOGRAPH-6574}) missing from font(s) DejaVu Sans.\n",
            "\n",
            "c:\\Users\\darwi\\anaconda3\\Lib\\site-packages\\IPython\\core\\pylabtools.py:170: UserWarning:\n",
            "\n",
            "Glyph 20633 (\\N{CJK UNIFIED IDEOGRAPH-5099}) missing from font(s) DejaVu Sans.\n",
            "\n",
            "c:\\Users\\darwi\\anaconda3\\Lib\\site-packages\\IPython\\core\\pylabtools.py:170: UserWarning:\n",
            "\n",
            "Glyph 28168 (\\N{CJK UNIFIED IDEOGRAPH-6E08}) missing from font(s) DejaVu Sans.\n",
            "\n",
            "c:\\Users\\darwi\\anaconda3\\Lib\\site-packages\\IPython\\core\\pylabtools.py:170: UserWarning:\n",
            "\n",
            "Glyph 12415 (\\N{HIRAGANA LETTER MI}) missing from font(s) DejaVu Sans.\n",
            "\n",
            "c:\\Users\\darwi\\anaconda3\\Lib\\site-packages\\IPython\\core\\pylabtools.py:170: UserWarning:\n",
            "\n",
            "Glyph 21697 (\\N{CJK UNIFIED IDEOGRAPH-54C1}) missing from font(s) DejaVu Sans.\n",
            "\n",
            "c:\\Users\\darwi\\anaconda3\\Lib\\site-packages\\IPython\\core\\pylabtools.py:170: UserWarning:\n",
            "\n",
            "Glyph 12305 (\\N{RIGHT BLACK LENTICULAR BRACKET}) missing from font(s) DejaVu Sans.\n",
            "\n"
          ]
        },
        {
          "data": {
            "image/png": "[encoded data removed]",
            "text/plain": [
              "<Figure size 1200x800 with 1 Axes>"
            ]
          },
          "metadata": {},
          "output_type": "display_data"
        },
        {
          "name": "stdout",
          "output_type": "stream",
          "text": [
            "Top 5 Nodes by Degree Centrality:\n",
            "Apple iPhone 8 64GB : 0.364\n",
            "Apple Iphone Xr 64Go: 0.364\n",
            "Apple iPhone SE (2nd: 0.182\n",
            "Apple iPhone 11 [64G: 0.182\n",
            "Apple iPhone XR, US : 0.182\n"
          ]
        }
      ],
      "source": [
        "plt.figure(figsize=(12, 8))\n",
        "pos = nx.spring_layout(G)\n",
        "nx.draw(G, pos, with_labels=False, node_color='lightblue', edge_color='gray', node_size=500)\n",
        "labels = {node: G.nodes[node]['title'][:20] for node in G.nodes}\n",
        "nx.draw_networkx_labels(G, pos, labels, font_size=8)\n",
        "plt.title('Co-Purchase Network for iPhone 14')\n",
        "plt.savefig('network_graph.png', dpi=300)\n",
        "plt.show()\n",
        "\n",
        "centrality = nx.degree_centrality(G)\n",
        "print('Top 5 Nodes by Degree Centrality:')\n",
        "for node, score in sorted(centrality.items(), key=lambda x: x[1], reverse=True)[:5]:\n",
        "    print(f'{G.nodes[node][\"title\"][:20]}: {score:.3f}')"
      ]
    },
    {
      "cell_type": "markdown",
      "metadata": {},
      "source": [
        "### Heatmap: Price Distribution Across Countries"
      ]
    },
    {
      "cell_type": "code",
      "execution_count": 78,
      "metadata": {},
      "outputs": [
        {
          "name": "stderr",
          "output_type": "stream",
          "text": [
            "c:\\Users\\darwi\\anaconda3\\Lib\\site-packages\\seaborn\\utils.py:61: UserWarning:\n",
            "\n",
            "Glyph 12304 (\\N{LEFT BLACK LENTICULAR BRACKET}) missing from font(s) DejaVu Sans.\n",
            "\n",
            "c:\\Users\\darwi\\anaconda3\\Lib\\site-packages\\seaborn\\utils.py:61: UserWarning:\n",
            "\n",
            "Glyph 25972 (\\N{CJK UNIFIED IDEOGRAPH-6574}) missing from font(s) DejaVu Sans.\n",
            "\n",
            "c:\\Users\\darwi\\anaconda3\\Lib\\site-packages\\seaborn\\utils.py:61: UserWarning:\n",
            "\n",
            "Glyph 20633 (\\N{CJK UNIFIED IDEOGRAPH-5099}) missing from font(s) DejaVu Sans.\n",
            "\n",
            "c:\\Users\\darwi\\anaconda3\\Lib\\site-packages\\seaborn\\utils.py:61: UserWarning:\n",
            "\n",
            "Glyph 28168 (\\N{CJK UNIFIED IDEOGRAPH-6E08}) missing from font(s) DejaVu Sans.\n",
            "\n",
            "c:\\Users\\darwi\\anaconda3\\Lib\\site-packages\\seaborn\\utils.py:61: UserWarning:\n",
            "\n",
            "Glyph 12415 (\\N{HIRAGANA LETTER MI}) missing from font(s) DejaVu Sans.\n",
            "\n",
            "c:\\Users\\darwi\\anaconda3\\Lib\\site-packages\\seaborn\\utils.py:61: UserWarning:\n",
            "\n",
            "Glyph 21697 (\\N{CJK UNIFIED IDEOGRAPH-54C1}) missing from font(s) DejaVu Sans.\n",
            "\n",
            "c:\\Users\\darwi\\anaconda3\\Lib\\site-packages\\seaborn\\utils.py:61: UserWarning:\n",
            "\n",
            "Glyph 12305 (\\N{RIGHT BLACK LENTICULAR BRACKET}) missing from font(s) DejaVu Sans.\n",
            "\n",
            "c:\\Users\\darwi\\anaconda3\\Lib\\site-packages\\seaborn\\utils.py:61: UserWarning:\n",
            "\n",
            "Glyph 12497 (\\N{KATAKANA LETTER PA}) missing from font(s) DejaVu Sans.\n",
            "\n",
            "c:\\Users\\darwi\\anaconda3\\Lib\\site-packages\\seaborn\\utils.py:61: UserWarning:\n",
            "\n",
            "Glyph 12540 (\\N{KATAKANA-HIRAGANA PROLONGED SOUND MARK}) missing from font(s) DejaVu Sans.\n",
            "\n",
            "c:\\Users\\darwi\\anaconda3\\Lib\\site-packages\\seaborn\\utils.py:61: UserWarning:\n",
            "\n",
            "Glyph 12503 (\\N{KATAKANA LETTER PU}) missing from font(s) DejaVu Sans.\n",
            "\n",
            "c:\\Users\\darwi\\anaconda3\\Lib\\site-packages\\seaborn\\utils.py:61: UserWarning:\n",
            "\n",
            "Glyph 12523 (\\N{KATAKANA LETTER RU}) missing from font(s) DejaVu Sans.\n",
            "\n",
            "c:\\Users\\darwi\\anaconda3\\Lib\\site-packages\\seaborn\\utils.py:61: UserWarning:\n",
            "\n",
            "Glyph 12501 (\\N{KATAKANA LETTER HU}) missing from font(s) DejaVu Sans.\n",
            "\n",
            "c:\\Users\\darwi\\anaconda3\\Lib\\site-packages\\seaborn\\utils.py:61: UserWarning:\n",
            "\n",
            "Glyph 12522 (\\N{KATAKANA LETTER RI}) missing from font(s) DejaVu Sans.\n",
            "\n",
            "c:\\Users\\darwi\\anaconda3\\Lib\\site-packages\\seaborn\\utils.py:61: UserWarning:\n",
            "\n",
            "Glyph 23550 (\\N{CJK UNIFIED IDEOGRAPH-5BFE}) missing from font(s) DejaVu Sans.\n",
            "\n",
            "c:\\Users\\darwi\\anaconda3\\Lib\\site-packages\\seaborn\\utils.py:61: UserWarning:\n",
            "\n",
            "Glyph 24540 (\\N{CJK UNIFIED IDEOGRAPH-5FDC}) missing from font(s) DejaVu Sans.\n",
            "\n",
            "c:\\Users\\darwi\\anaconda3\\Lib\\site-packages\\seaborn\\utils.py:61: UserWarning:\n",
            "\n",
            "Glyph 12511 (\\N{KATAKANA LETTER MI}) missing from font(s) DejaVu Sans.\n",
            "\n",
            "c:\\Users\\darwi\\anaconda3\\Lib\\site-packages\\seaborn\\utils.py:61: UserWarning:\n",
            "\n",
            "Glyph 12483 (\\N{KATAKANA LETTER SMALL TU}) missing from font(s) DejaVu Sans.\n",
            "\n",
            "c:\\Users\\darwi\\anaconda3\\Lib\\site-packages\\seaborn\\utils.py:61: UserWarning:\n",
            "\n",
            "Glyph 12489 (\\N{KATAKANA LETTER DO}) missing from font(s) DejaVu Sans.\n",
            "\n",
            "c:\\Users\\darwi\\anaconda3\\Lib\\site-packages\\seaborn\\utils.py:61: UserWarning:\n",
            "\n",
            "Glyph 12490 (\\N{KATAKANA LETTER NA}) missing from font(s) DejaVu Sans.\n",
            "\n",
            "c:\\Users\\darwi\\anaconda3\\Lib\\site-packages\\seaborn\\utils.py:61: UserWarning:\n",
            "\n",
            "Glyph 12452 (\\N{KATAKANA LETTER I}) missing from font(s) DejaVu Sans.\n",
            "\n",
            "c:\\Users\\darwi\\anaconda3\\Lib\\site-packages\\seaborn\\utils.py:61: UserWarning:\n",
            "\n",
            "Glyph 12488 (\\N{KATAKANA LETTER TO}) missing from font(s) DejaVu Sans.\n",
            "\n",
            "c:\\Users\\darwi\\anaconda3\\Lib\\site-packages\\seaborn\\utils.py:61: UserWarning:\n",
            "\n",
            "Glyph 12473 (\\N{KATAKANA LETTER SU}) missing from font(s) DejaVu Sans.\n",
            "\n",
            "c:\\Users\\darwi\\anaconda3\\Lib\\site-packages\\seaborn\\utils.py:61: UserWarning:\n",
            "\n",
            "Glyph 12506 (\\N{KATAKANA LETTER PE}) missing from font(s) DejaVu Sans.\n",
            "\n",
            "c:\\Users\\darwi\\anaconda3\\Lib\\site-packages\\seaborn\\utils.py:61: UserWarning:\n",
            "\n",
            "Glyph 12502 (\\N{KATAKANA LETTER BU}) missing from font(s) DejaVu Sans.\n",
            "\n",
            "c:\\Users\\darwi\\anaconda3\\Lib\\site-packages\\seaborn\\utils.py:61: UserWarning:\n",
            "\n",
            "Glyph 12521 (\\N{KATAKANA LETTER RA}) missing from font(s) DejaVu Sans.\n",
            "\n",
            "c:\\Users\\darwi\\anaconda3\\Lib\\site-packages\\seaborn\\utils.py:61: UserWarning:\n",
            "\n",
            "Glyph 12463 (\\N{KATAKANA LETTER KU}) missing from font(s) DejaVu Sans.\n",
            "\n",
            "c:\\Users\\darwi\\anaconda3\\Lib\\site-packages\\seaborn\\utils.py:61: UserWarning:\n",
            "\n",
            "Glyph 65288 (\\N{FULLWIDTH LEFT PARENTHESIS}) missing from font(s) DejaVu Sans.\n",
            "\n",
            "c:\\Users\\darwi\\anaconda3\\Lib\\site-packages\\seaborn\\utils.py:61: UserWarning:\n",
            "\n",
            "Glyph 31532 (\\N{CJK UNIFIED IDEOGRAPH-7B2C}) missing from font(s) DejaVu Sans.\n",
            "\n",
            "c:\\Users\\darwi\\anaconda3\\Lib\\site-packages\\seaborn\\utils.py:61: UserWarning:\n",
            "\n",
            "Glyph 19990 (\\N{CJK UNIFIED IDEOGRAPH-4E16}) missing from font(s) DejaVu Sans.\n",
            "\n",
            "c:\\Users\\darwi\\anaconda3\\Lib\\site-packages\\seaborn\\utils.py:61: UserWarning:\n",
            "\n",
            "Glyph 20195 (\\N{CJK UNIFIED IDEOGRAPH-4EE3}) missing from font(s) DejaVu Sans.\n",
            "\n",
            "c:\\Users\\darwi\\anaconda3\\Lib\\site-packages\\seaborn\\utils.py:61: UserWarning:\n",
            "\n",
            "Glyph 65289 (\\N{FULLWIDTH RIGHT PARENTHESIS}) missing from font(s) DejaVu Sans.\n",
            "\n",
            "c:\\Users\\darwi\\anaconda3\\Lib\\site-packages\\seaborn\\utils.py:61: UserWarning:\n",
            "\n",
            "Glyph 12467 (\\N{KATAKANA LETTER KO}) missing from font(s) DejaVu Sans.\n",
            "\n"
          ]
        },
        {
          "name": "stdout",
          "output_type": "stream",
          "text": [
            "Unique countries in product_df: ['US' 'UK' 'DE' 'FR' 'JP']\n",
            "Unique titles in product_df: ['Apple iPhone SE (2nd Generation), 64GB, Red - Unlocked (Renewed)'\n",
            " 'Apple iPhone 11 [64GB, Black] + Carrier Subscription [Cricket Wireless]'\n",
            " 'Apple iPhone XR, US Version, 64GB, Black - AT&T (Renewed)'\n",
            " 'Apple iPhone XS, US Version, 64GB, Space Gray - Verizon (Renewed)'\n",
            " 'Apple iPhone 11 Pro Max [64GB, Space Gray] + Carrier Subscription [Cricket Wireless]'\n",
            " 'Apple iPhone 8, 64GB, Space Grey (Renewed)'\n",
            " 'Apple iPhone SE 2nd generation, 64 GB, Red (Renewed)'\n",
            " 'Apple iPhone SE 2nd Generation, 64GB, Black (Renewed)'\n",
            " 'Apple iPhone SE (2nd Gen) 128GB - (PRODUCT)RED (Renewed)'\n",
            " 'Apple iPhone SE 2nd Generation, 64GB, White (Renewed)'\n",
            " 'Apple iPhone 8 64GB Space Grey (Generalüberholt)'\n",
            " 'Apple iPhone SE 2. Generation, 64GB, Weiß - (Generalüberholt) DE'\n",
            " 'Apple iPhone XR 64GB Schwarz - (Generalüberholt)'\n",
            " 'Apple iPhone 11, 64GB, Schwarz (Generalüberholt)'\n",
            " 'Apple iPhone SE 3.Generation 64GB - Mitternachtsblau (Generalüberholt)'\n",
            " 'Apple iPhone 6S 4.7-Inch 32 GB SIM-Free Smartphone - Space Grey (Renewed)'\n",
            " 'Apple iPhone Se 32GB NFC LTE Compact Gris Sidéral (Reconditionné)'\n",
            " 'iPhone SE 2e Génération, 64GB, Noir (Reconditionné)'\n",
            " 'Apple iPhone 6S 64 GB UK SIM-Free Smartphone - Silver (Renewed)'\n",
            " 'Apple Iphone Xr 64Go Noir (Reconditionné)'\n",
            " '【整備済み品】 Apple iPhone 14 128GB パープル SIMフリー 5G対応 (整備済み品)'\n",
            " '【整備済み品】 Apple iPhone 14 Plus 128GB ミッドナイト SIMフリー 5G対応 (整備済み品)'\n",
            " '【整備済み品】 Apple iPhone 14 Pro Max 128GB スペースブラック SIMフリー 5G対応 (整備済み品)'\n",
            " '【整備済み品】 Apple iPhone SE（第2世代） 128GB (PRODUCT)RED SIMフリー (整備済み品)'\n",
            " '【整備済み品】 Apple iPhone XR 128GB コーラル SIMフリー (整備済み品)']\n",
            "Rows with zero price_usd: 1\n"
          ]
        },
        {
          "name": "stderr",
          "output_type": "stream",
          "text": [
            "C:\\Users\\darwi\\AppData\\Local\\Temp\\ipykernel_17308\\2267475433.py:38: UserWarning:\n",
            "\n",
            "Glyph 12304 (\\N{LEFT BLACK LENTICULAR BRACKET}) missing from font(s) DejaVu Sans.\n",
            "\n",
            "C:\\Users\\darwi\\AppData\\Local\\Temp\\ipykernel_17308\\2267475433.py:38: UserWarning:\n",
            "\n",
            "Glyph 25972 (\\N{CJK UNIFIED IDEOGRAPH-6574}) missing from font(s) DejaVu Sans.\n",
            "\n",
            "C:\\Users\\darwi\\AppData\\Local\\Temp\\ipykernel_17308\\2267475433.py:38: UserWarning:\n",
            "\n",
            "Glyph 20633 (\\N{CJK UNIFIED IDEOGRAPH-5099}) missing from font(s) DejaVu Sans.\n",
            "\n",
            "C:\\Users\\darwi\\AppData\\Local\\Temp\\ipykernel_17308\\2267475433.py:38: UserWarning:\n",
            "\n",
            "Glyph 28168 (\\N{CJK UNIFIED IDEOGRAPH-6E08}) missing from font(s) DejaVu Sans.\n",
            "\n",
            "C:\\Users\\darwi\\AppData\\Local\\Temp\\ipykernel_17308\\2267475433.py:38: UserWarning:\n",
            "\n",
            "Glyph 12415 (\\N{HIRAGANA LETTER MI}) missing from font(s) DejaVu Sans.\n",
            "\n",
            "C:\\Users\\darwi\\AppData\\Local\\Temp\\ipykernel_17308\\2267475433.py:38: UserWarning:\n",
            "\n",
            "Glyph 21697 (\\N{CJK UNIFIED IDEOGRAPH-54C1}) missing from font(s) DejaVu Sans.\n",
            "\n",
            "C:\\Users\\darwi\\AppData\\Local\\Temp\\ipykernel_17308\\2267475433.py:38: UserWarning:\n",
            "\n",
            "Glyph 12305 (\\N{RIGHT BLACK LENTICULAR BRACKET}) missing from font(s) DejaVu Sans.\n",
            "\n",
            "C:\\Users\\darwi\\AppData\\Local\\Temp\\ipykernel_17308\\2267475433.py:38: UserWarning:\n",
            "\n",
            "Glyph 12497 (\\N{KATAKANA LETTER PA}) missing from font(s) DejaVu Sans.\n",
            "\n",
            "C:\\Users\\darwi\\AppData\\Local\\Temp\\ipykernel_17308\\2267475433.py:38: UserWarning:\n",
            "\n",
            "Glyph 12540 (\\N{KATAKANA-HIRAGANA PROLONGED SOUND MARK}) missing from font(s) DejaVu Sans.\n",
            "\n",
            "C:\\Users\\darwi\\AppData\\Local\\Temp\\ipykernel_17308\\2267475433.py:38: UserWarning:\n",
            "\n",
            "Glyph 12503 (\\N{KATAKANA LETTER PU}) missing from font(s) DejaVu Sans.\n",
            "\n",
            "C:\\Users\\darwi\\AppData\\Local\\Temp\\ipykernel_17308\\2267475433.py:38: UserWarning:\n",
            "\n",
            "Glyph 12523 (\\N{KATAKANA LETTER RU}) missing from font(s) DejaVu Sans.\n",
            "\n",
            "C:\\Users\\darwi\\AppData\\Local\\Temp\\ipykernel_17308\\2267475433.py:38: UserWarning:\n",
            "\n",
            "Glyph 12501 (\\N{KATAKANA LETTER HU}) missing from font(s) DejaVu Sans.\n",
            "\n",
            "C:\\Users\\darwi\\AppData\\Local\\Temp\\ipykernel_17308\\2267475433.py:38: UserWarning:\n",
            "\n",
            "Glyph 12522 (\\N{KATAKANA LETTER RI}) missing from font(s) DejaVu Sans.\n",
            "\n",
            "C:\\Users\\darwi\\AppData\\Local\\Temp\\ipykernel_17308\\2267475433.py:38: UserWarning:\n",
            "\n",
            "Glyph 23550 (\\N{CJK UNIFIED IDEOGRAPH-5BFE}) missing from font(s) DejaVu Sans.\n",
            "\n",
            "C:\\Users\\darwi\\AppData\\Local\\Temp\\ipykernel_17308\\2267475433.py:38: UserWarning:\n",
            "\n",
            "Glyph 24540 (\\N{CJK UNIFIED IDEOGRAPH-5FDC}) missing from font(s) DejaVu Sans.\n",
            "\n",
            "C:\\Users\\darwi\\AppData\\Local\\Temp\\ipykernel_17308\\2267475433.py:38: UserWarning:\n",
            "\n",
            "Glyph 12511 (\\N{KATAKANA LETTER MI}) missing from font(s) DejaVu Sans.\n",
            "\n",
            "C:\\Users\\darwi\\AppData\\Local\\Temp\\ipykernel_17308\\2267475433.py:38: UserWarning:\n",
            "\n",
            "Glyph 12483 (\\N{KATAKANA LETTER SMALL TU}) missing from font(s) DejaVu Sans.\n",
            "\n",
            "C:\\Users\\darwi\\AppData\\Local\\Temp\\ipykernel_17308\\2267475433.py:38: UserWarning:\n",
            "\n",
            "Glyph 12489 (\\N{KATAKANA LETTER DO}) missing from font(s) DejaVu Sans.\n",
            "\n",
            "C:\\Users\\darwi\\AppData\\Local\\Temp\\ipykernel_17308\\2267475433.py:38: UserWarning:\n",
            "\n",
            "Glyph 12490 (\\N{KATAKANA LETTER NA}) missing from font(s) DejaVu Sans.\n",
            "\n",
            "C:\\Users\\darwi\\AppData\\Local\\Temp\\ipykernel_17308\\2267475433.py:38: UserWarning:\n",
            "\n",
            "Glyph 12452 (\\N{KATAKANA LETTER I}) missing from font(s) DejaVu Sans.\n",
            "\n",
            "C:\\Users\\darwi\\AppData\\Local\\Temp\\ipykernel_17308\\2267475433.py:38: UserWarning:\n",
            "\n",
            "Glyph 12488 (\\N{KATAKANA LETTER TO}) missing from font(s) DejaVu Sans.\n",
            "\n",
            "C:\\Users\\darwi\\AppData\\Local\\Temp\\ipykernel_17308\\2267475433.py:38: UserWarning:\n",
            "\n",
            "Glyph 12473 (\\N{KATAKANA LETTER SU}) missing from font(s) DejaVu Sans.\n",
            "\n",
            "C:\\Users\\darwi\\AppData\\Local\\Temp\\ipykernel_17308\\2267475433.py:38: UserWarning:\n",
            "\n",
            "Glyph 12506 (\\N{KATAKANA LETTER PE}) missing from font(s) DejaVu Sans.\n",
            "\n",
            "C:\\Users\\darwi\\AppData\\Local\\Temp\\ipykernel_17308\\2267475433.py:38: UserWarning:\n",
            "\n",
            "Glyph 12502 (\\N{KATAKANA LETTER BU}) missing from font(s) DejaVu Sans.\n",
            "\n",
            "C:\\Users\\darwi\\AppData\\Local\\Temp\\ipykernel_17308\\2267475433.py:38: UserWarning:\n",
            "\n",
            "Glyph 12521 (\\N{KATAKANA LETTER RA}) missing from font(s) DejaVu Sans.\n",
            "\n",
            "C:\\Users\\darwi\\AppData\\Local\\Temp\\ipykernel_17308\\2267475433.py:38: UserWarning:\n",
            "\n",
            "Glyph 12463 (\\N{KATAKANA LETTER KU}) missing from font(s) DejaVu Sans.\n",
            "\n",
            "C:\\Users\\darwi\\AppData\\Local\\Temp\\ipykernel_17308\\2267475433.py:38: UserWarning:\n",
            "\n",
            "Glyph 65288 (\\N{FULLWIDTH LEFT PARENTHESIS}) missing from font(s) DejaVu Sans.\n",
            "\n",
            "C:\\Users\\darwi\\AppData\\Local\\Temp\\ipykernel_17308\\2267475433.py:38: UserWarning:\n",
            "\n",
            "Glyph 31532 (\\N{CJK UNIFIED IDEOGRAPH-7B2C}) missing from font(s) DejaVu Sans.\n",
            "\n",
            "C:\\Users\\darwi\\AppData\\Local\\Temp\\ipykernel_17308\\2267475433.py:38: UserWarning:\n",
            "\n",
            "Glyph 19990 (\\N{CJK UNIFIED IDEOGRAPH-4E16}) missing from font(s) DejaVu Sans.\n",
            "\n",
            "C:\\Users\\darwi\\AppData\\Local\\Temp\\ipykernel_17308\\2267475433.py:38: UserWarning:\n",
            "\n",
            "Glyph 20195 (\\N{CJK UNIFIED IDEOGRAPH-4EE3}) missing from font(s) DejaVu Sans.\n",
            "\n",
            "C:\\Users\\darwi\\AppData\\Local\\Temp\\ipykernel_17308\\2267475433.py:38: UserWarning:\n",
            "\n",
            "Glyph 65289 (\\N{FULLWIDTH RIGHT PARENTHESIS}) missing from font(s) DejaVu Sans.\n",
            "\n",
            "C:\\Users\\darwi\\AppData\\Local\\Temp\\ipykernel_17308\\2267475433.py:38: UserWarning:\n",
            "\n",
            "Glyph 12467 (\\N{KATAKANA LETTER KO}) missing from font(s) DejaVu Sans.\n",
            "\n",
            "c:\\Users\\darwi\\anaconda3\\Lib\\site-packages\\IPython\\core\\pylabtools.py:170: UserWarning:\n",
            "\n",
            "Glyph 12304 (\\N{LEFT BLACK LENTICULAR BRACKET}) missing from font(s) DejaVu Sans.\n",
            "\n",
            "c:\\Users\\darwi\\anaconda3\\Lib\\site-packages\\IPython\\core\\pylabtools.py:170: UserWarning:\n",
            "\n",
            "Glyph 25972 (\\N{CJK UNIFIED IDEOGRAPH-6574}) missing from font(s) DejaVu Sans.\n",
            "\n",
            "c:\\Users\\darwi\\anaconda3\\Lib\\site-packages\\IPython\\core\\pylabtools.py:170: UserWarning:\n",
            "\n",
            "Glyph 20633 (\\N{CJK UNIFIED IDEOGRAPH-5099}) missing from font(s) DejaVu Sans.\n",
            "\n",
            "c:\\Users\\darwi\\anaconda3\\Lib\\site-packages\\IPython\\core\\pylabtools.py:170: UserWarning:\n",
            "\n",
            "Glyph 28168 (\\N{CJK UNIFIED IDEOGRAPH-6E08}) missing from font(s) DejaVu Sans.\n",
            "\n",
            "c:\\Users\\darwi\\anaconda3\\Lib\\site-packages\\IPython\\core\\pylabtools.py:170: UserWarning:\n",
            "\n",
            "Glyph 12415 (\\N{HIRAGANA LETTER MI}) missing from font(s) DejaVu Sans.\n",
            "\n",
            "c:\\Users\\darwi\\anaconda3\\Lib\\site-packages\\IPython\\core\\pylabtools.py:170: UserWarning:\n",
            "\n",
            "Glyph 21697 (\\N{CJK UNIFIED IDEOGRAPH-54C1}) missing from font(s) DejaVu Sans.\n",
            "\n",
            "c:\\Users\\darwi\\anaconda3\\Lib\\site-packages\\IPython\\core\\pylabtools.py:170: UserWarning:\n",
            "\n",
            "Glyph 12305 (\\N{RIGHT BLACK LENTICULAR BRACKET}) missing from font(s) DejaVu Sans.\n",
            "\n",
            "c:\\Users\\darwi\\anaconda3\\Lib\\site-packages\\IPython\\core\\pylabtools.py:170: UserWarning:\n",
            "\n",
            "Glyph 12497 (\\N{KATAKANA LETTER PA}) missing from font(s) DejaVu Sans.\n",
            "\n",
            "c:\\Users\\darwi\\anaconda3\\Lib\\site-packages\\IPython\\core\\pylabtools.py:170: UserWarning:\n",
            "\n",
            "Glyph 12540 (\\N{KATAKANA-HIRAGANA PROLONGED SOUND MARK}) missing from font(s) DejaVu Sans.\n",
            "\n",
            "c:\\Users\\darwi\\anaconda3\\Lib\\site-packages\\IPython\\core\\pylabtools.py:170: UserWarning:\n",
            "\n",
            "Glyph 12503 (\\N{KATAKANA LETTER PU}) missing from font(s) DejaVu Sans.\n",
            "\n",
            "c:\\Users\\darwi\\anaconda3\\Lib\\site-packages\\IPython\\core\\pylabtools.py:170: UserWarning:\n",
            "\n",
            "Glyph 12523 (\\N{KATAKANA LETTER RU}) missing from font(s) DejaVu Sans.\n",
            "\n",
            "c:\\Users\\darwi\\anaconda3\\Lib\\site-packages\\IPython\\core\\pylabtools.py:170: UserWarning:\n",
            "\n",
            "Glyph 12501 (\\N{KATAKANA LETTER HU}) missing from font(s) DejaVu Sans.\n",
            "\n",
            "c:\\Users\\darwi\\anaconda3\\Lib\\site-packages\\IPython\\core\\pylabtools.py:170: UserWarning:\n",
            "\n",
            "Glyph 12522 (\\N{KATAKANA LETTER RI}) missing from font(s) DejaVu Sans.\n",
            "\n",
            "c:\\Users\\darwi\\anaconda3\\Lib\\site-packages\\IPython\\core\\pylabtools.py:170: UserWarning:\n",
            "\n",
            "Glyph 23550 (\\N{CJK UNIFIED IDEOGRAPH-5BFE}) missing from font(s) DejaVu Sans.\n",
            "\n",
            "c:\\Users\\darwi\\anaconda3\\Lib\\site-packages\\IPython\\core\\pylabtools.py:170: UserWarning:\n",
            "\n",
            "Glyph 24540 (\\N{CJK UNIFIED IDEOGRAPH-5FDC}) missing from font(s) DejaVu Sans.\n",
            "\n",
            "c:\\Users\\darwi\\anaconda3\\Lib\\site-packages\\IPython\\core\\pylabtools.py:170: UserWarning:\n",
            "\n",
            "Glyph 12511 (\\N{KATAKANA LETTER MI}) missing from font(s) DejaVu Sans.\n",
            "\n",
            "c:\\Users\\darwi\\anaconda3\\Lib\\site-packages\\IPython\\core\\pylabtools.py:170: UserWarning:\n",
            "\n",
            "Glyph 12483 (\\N{KATAKANA LETTER SMALL TU}) missing from font(s) DejaVu Sans.\n",
            "\n",
            "c:\\Users\\darwi\\anaconda3\\Lib\\site-packages\\IPython\\core\\pylabtools.py:170: UserWarning:\n",
            "\n",
            "Glyph 12489 (\\N{KATAKANA LETTER DO}) missing from font(s) DejaVu Sans.\n",
            "\n",
            "c:\\Users\\darwi\\anaconda3\\Lib\\site-packages\\IPython\\core\\pylabtools.py:170: UserWarning:\n",
            "\n",
            "Glyph 12490 (\\N{KATAKANA LETTER NA}) missing from font(s) DejaVu Sans.\n",
            "\n",
            "c:\\Users\\darwi\\anaconda3\\Lib\\site-packages\\IPython\\core\\pylabtools.py:170: UserWarning:\n",
            "\n",
            "Glyph 12452 (\\N{KATAKANA LETTER I}) missing from font(s) DejaVu Sans.\n",
            "\n",
            "c:\\Users\\darwi\\anaconda3\\Lib\\site-packages\\IPython\\core\\pylabtools.py:170: UserWarning:\n",
            "\n",
            "Glyph 12488 (\\N{KATAKANA LETTER TO}) missing from font(s) DejaVu Sans.\n",
            "\n",
            "c:\\Users\\darwi\\anaconda3\\Lib\\site-packages\\IPython\\core\\pylabtools.py:170: UserWarning:\n",
            "\n",
            "Glyph 12473 (\\N{KATAKANA LETTER SU}) missing from font(s) DejaVu Sans.\n",
            "\n",
            "c:\\Users\\darwi\\anaconda3\\Lib\\site-packages\\IPython\\core\\pylabtools.py:170: UserWarning:\n",
            "\n",
            "Glyph 12506 (\\N{KATAKANA LETTER PE}) missing from font(s) DejaVu Sans.\n",
            "\n",
            "c:\\Users\\darwi\\anaconda3\\Lib\\site-packages\\IPython\\core\\pylabtools.py:170: UserWarning:\n",
            "\n",
            "Glyph 12502 (\\N{KATAKANA LETTER BU}) missing from font(s) DejaVu Sans.\n",
            "\n",
            "c:\\Users\\darwi\\anaconda3\\Lib\\site-packages\\IPython\\core\\pylabtools.py:170: UserWarning:\n",
            "\n",
            "Glyph 12521 (\\N{KATAKANA LETTER RA}) missing from font(s) DejaVu Sans.\n",
            "\n",
            "c:\\Users\\darwi\\anaconda3\\Lib\\site-packages\\IPython\\core\\pylabtools.py:170: UserWarning:\n",
            "\n",
            "Glyph 12463 (\\N{KATAKANA LETTER KU}) missing from font(s) DejaVu Sans.\n",
            "\n",
            "c:\\Users\\darwi\\anaconda3\\Lib\\site-packages\\IPython\\core\\pylabtools.py:170: UserWarning:\n",
            "\n",
            "Glyph 65288 (\\N{FULLWIDTH LEFT PARENTHESIS}) missing from font(s) DejaVu Sans.\n",
            "\n",
            "c:\\Users\\darwi\\anaconda3\\Lib\\site-packages\\IPython\\core\\pylabtools.py:170: UserWarning:\n",
            "\n",
            "Glyph 31532 (\\N{CJK UNIFIED IDEOGRAPH-7B2C}) missing from font(s) DejaVu Sans.\n",
            "\n",
            "c:\\Users\\darwi\\anaconda3\\Lib\\site-packages\\IPython\\core\\pylabtools.py:170: UserWarning:\n",
            "\n",
            "Glyph 19990 (\\N{CJK UNIFIED IDEOGRAPH-4E16}) missing from font(s) DejaVu Sans.\n",
            "\n",
            "c:\\Users\\darwi\\anaconda3\\Lib\\site-packages\\IPython\\core\\pylabtools.py:170: UserWarning:\n",
            "\n",
            "Glyph 20195 (\\N{CJK UNIFIED IDEOGRAPH-4EE3}) missing from font(s) DejaVu Sans.\n",
            "\n",
            "c:\\Users\\darwi\\anaconda3\\Lib\\site-packages\\IPython\\core\\pylabtools.py:170: UserWarning:\n",
            "\n",
            "Glyph 65289 (\\N{FULLWIDTH RIGHT PARENTHESIS}) missing from font(s) DejaVu Sans.\n",
            "\n",
            "c:\\Users\\darwi\\anaconda3\\Lib\\site-packages\\IPython\\core\\pylabtools.py:170: UserWarning:\n",
            "\n",
            "Glyph 12467 (\\N{KATAKANA LETTER KO}) missing from font(s) DejaVu Sans.\n",
            "\n"
          ]
        },
        {
          "data": {
            "image/png": "[encoded data removed]",
            "text/plain": [
              "<Figure size 1000x600 with 2 Axes>"
            ]
          },
          "metadata": {},
          "output_type": "display_data"
        }
      ],
      "source": [
        "\n",
        "print('Unique countries in product_df:', product_df['country'].unique())\n",
        "print('Unique titles in product_df:', product_df['title'].unique())\n",
        "print('Rows with zero price_usd:', (product_df['price_usd'] == 0).sum())\n",
        "\n",
        "heatmap_data = product_df.pivot_table(\n",
        "    values='price_usd',\n",
        "    index='country',\n",
        "    columns='title',\n",
        "    aggfunc='mean'\n",
        ").fillna(0)\n",
        "\n",
        "\n",
        "expected_countries = ['US', 'UK', 'DE', 'FR', 'JP']\n",
        "heatmap_data = heatmap_data.reindex(expected_countries, fill_value=0)\n",
        "iphone_cols = [col for col in heatmap_data.columns if 'iphone' in col.lower()]\n",
        "if not iphone_cols:\n",
        "    print('Warning: No titles contain \"iPhone\". Using all titles as fallback.')\n",
        "    iphone_cols = heatmap_data.columns\n",
        "heatmap_data = heatmap_data[iphone_cols]\n",
        "\n",
        "\n",
        "if heatmap_data.empty or (heatmap_data == 0).all().all():\n",
        "    print('Error: Heatmap data is empty or all zeros. Check product_df content.')\n",
        "else:\n",
        "    plt.figure(figsize=(10, 6))\n",
        "    sns.heatmap(\n",
        "        heatmap_data,\n",
        "        annot=True,\n",
        "        cmap='YlGnBu',\n",
        "        fmt='.2f',\n",
        "        cbar_kws={'label': 'Price (USD)'},\n",
        "        vmin=0,  \n",
        "        mask=heatmap_data == 0 \n",
        "    )\n",
        "    plt.title('iPhone Price Distribution Across Countries')\n",
        "    plt.xlabel('Product')\n",
        "    plt.ylabel('Country')\n",
        "    plt.savefig('price_heatmap.png', dpi=300)\n",
        "    plt.show()"
      ]
    },
    {
      "cell_type": "markdown",
      "metadata": {},
      "source": [
        "## Phase 3: Point Cloud Analysis"
      ]
    },
    {
      "cell_type": "code",
      "execution_count": 79,
      "metadata": {},
      "outputs": [
        {
          "name": "stdout",
          "output_type": "stream",
          "text": [
            "3D Scatter Plot Data Inspection:\n",
            "Unique countries: ['US' 'UK' 'DE' 'FR' 'JP']\n",
            "Price USD range: 0.0 to 129292.0\n",
            "Rating range: 3.0 to 5.0\n",
            "Reviews range: 0 to 0\n",
            "Rows with zero price_usd: 1\n",
            "Rows with zero rating: 0\n",
            "Rows with zero reviews: 25\n",
            "Valid data for plotting:\n",
            "                                               title country  price_usd  \\\n",
            "0  Apple iPhone SE (2nd Generation), 64GB, Red - ...      US     100.00   \n",
            "1  Apple iPhone 11 [64GB, Black] + Carrier Subscr...      US      91.39   \n",
            "2  Apple iPhone XR, US Version, 64GB, Black - AT&...      US     164.90   \n",
            "3  Apple iPhone XS, US Version, 64GB, Space Gray ...      US     159.90   \n",
            "4  Apple iPhone 11 Pro Max [64GB, Space Gray] + C...      US     148.72   \n",
            "\n",
            "   rating  reviews_adjusted  \n",
            "0     4.2                 1  \n",
            "1     4.4                 1  \n",
            "2     4.4                 1  \n",
            "3     4.3                 1  \n",
            "4     3.6                 1  \n"
          ]
        },
        {
          "data": {
            "application/vnd.plotly.v1+json": {
              "config": {
                "plotlyServerURL": "https://plot.ly"
              },
              "data": [
                {
                  "customdata": [
                    [
                      "Apple iPhone SE (2nd Generation), 64GB, Red - Unlocked (Renewed)"
                    ],
                    [
                      "Apple iPhone 11 [64GB, Black] + Carrier Subscription [Cricket Wireless]"
                    ],
                    [
                      "Apple iPhone XR, US Version, 64GB, Black - AT&T (Renewed)"
                    ],
                    [
                      "Apple iPhone XS, US Version, 64GB, Space Gray - Verizon (Renewed)"
                    ],
                    [
                      "Apple iPhone 11 Pro Max [64GB, Space Gray] + Carrier Subscription [Cricket Wireless]"
                    ]
                  ],
                  "hovertemplate": "country=US<br>price_usd=%{marker.size}<br>rating=%{y}<br>reviews_adjusted=%{z}<br>title=%{customdata[0]}<extra></extra>",
                  "legendgroup": "US",
                  "marker": {
                    "color": "#636efa",
                    "opacity": 0.7,
                    "size": [
                      100,
                      91.39,
                      164.9,
                      159.9,
                      148.72
                    ],
                    "sizemode": "area",
                    "sizeref": 0.62975,
                    "symbol": "circle"
                  },
                  "mode": "markers",
                  "name": "US",
                  "scene": "scene",
                  "showlegend": true,
                  "type": "scatter3d",
                  "x": [
                    100,
                    91.39,
                    164.9,
                    159.9,
                    148.72
                  ],
                  "y": [
                    4.2,
                    4.4,
                    4.4,
                    4.3,
                    3.6
                  ],
                  "z": [
                    1,
                    1,
                    1,
                    1,
                    1
                  ]
                },
                {
                  "customdata": [
                    [
                      "Apple iPhone SE 2nd generation, 64 GB, Red (Renewed)"
                    ],
                    [
                      "Apple iPhone SE 2nd Generation, 64GB, Black (Renewed)"
                    ],
                    [
                      "Apple iPhone SE (2nd Gen) 128GB - (PRODUCT)RED (Renewed)"
                    ],
                    [
                      "Apple iPhone SE 2nd Generation, 64GB, White (Renewed)"
                    ]
                  ],
                  "hovertemplate": "country=UK<br>price_usd=%{marker.size}<br>rating=%{y}<br>reviews_adjusted=%{z}<br>title=%{customdata[0]}<extra></extra>",
                  "legendgroup": "UK",
                  "marker": {
                    "color": "#EF553B",
                    "opacity": 0.7,
                    "size": [
                      109.005,
                      113.75,
                      136.5,
                      123.5
                    ],
                    "sizemode": "area",
                    "sizeref": 0.62975,
                    "symbol": "circle"
                  },
                  "mode": "markers",
                  "name": "UK",
                  "scene": "scene",
                  "showlegend": true,
                  "type": "scatter3d",
                  "x": [
                    109.005,
                    113.75,
                    136.5,
                    123.5
                  ],
                  "y": [
                    4.3,
                    4.2,
                    4,
                    4.2
                  ],
                  "z": [
                    1,
                    1,
                    1,
                    1
                  ]
                },
                {
                  "customdata": [
                    [
                      "Apple iPhone 8 64GB Space Grey (Generalüberholt)"
                    ],
                    [
                      "Apple iPhone SE 2. Generation, 64GB, Weiß - (Generalüberholt) DE"
                    ],
                    [
                      "Apple iPhone XR 64GB Schwarz - (Generalüberholt)"
                    ],
                    [
                      "Apple iPhone 11, 64GB, Schwarz (Generalüberholt)"
                    ],
                    [
                      "Apple iPhone SE 3.Generation 64GB - Mitternachtsblau (Generalüberholt)"
                    ]
                  ],
                  "hovertemplate": "country=DE<br>price_usd=%{marker.size}<br>rating=%{y}<br>reviews_adjusted=%{z}<br>title=%{customdata[0]}<extra></extra>",
                  "legendgroup": "DE",
                  "marker": {
                    "color": "#00cc96",
                    "opacity": 0.7,
                    "size": [
                      108.75700000000002,
                      163.779,
                      186.89000000000001,
                      244.079,
                      251.90000000000003
                    ],
                    "sizemode": "area",
                    "sizeref": 0.62975,
                    "symbol": "circle"
                  },
                  "mode": "markers",
                  "name": "DE",
                  "scene": "scene",
                  "showlegend": true,
                  "type": "scatter3d",
                  "x": [
                    108.75700000000002,
                    163.779,
                    186.89000000000001,
                    244.079,
                    251.90000000000003
                  ],
                  "y": [
                    4,
                    4.1,
                    4.1,
                    3.8,
                    4.1
                  ],
                  "z": [
                    1,
                    1,
                    1,
                    1,
                    1
                  ]
                },
                {
                  "customdata": [
                    [
                      "Apple iPhone 6S 4.7-Inch 32 GB SIM-Free Smartphone - Space Grey (Renewed)"
                    ],
                    [
                      "Apple iPhone Se 32GB NFC LTE Compact Gris Sidéral (Reconditionné)"
                    ],
                    [
                      "iPhone SE 2e Génération, 64GB, Noir (Reconditionné)"
                    ],
                    [
                      "Apple iPhone 6S 64 GB UK SIM-Free Smartphone - Silver (Renewed)"
                    ],
                    [
                      "Apple Iphone Xr 64Go Noir (Reconditionné)"
                    ]
                  ],
                  "hovertemplate": "country=FR<br>price_usd=%{marker.size}<br>rating=%{y}<br>reviews_adjusted=%{z}<br>title=%{customdata[0]}<extra></extra>",
                  "legendgroup": "FR",
                  "marker": {
                    "color": "#ab63fa",
                    "opacity": 0.7,
                    "size": [
                      123.07900000000001,
                      121.00000000000001,
                      152.889,
                      130.9,
                      187.979
                    ],
                    "sizemode": "area",
                    "sizeref": 0.62975,
                    "symbol": "circle"
                  },
                  "mode": "markers",
                  "name": "FR",
                  "scene": "scene",
                  "showlegend": true,
                  "type": "scatter3d",
                  "x": [
                    123.07900000000001,
                    121.00000000000001,
                    152.889,
                    130.9,
                    187.979
                  ],
                  "y": [
                    3.3,
                    3,
                    3.9,
                    3,
                    3.9
                  ],
                  "z": [
                    1,
                    1,
                    1,
                    1,
                    1
                  ]
                }
              ],
              "layout": {
                "legend": {
                  "itemsizing": "constant",
                  "title": {
                    "text": "country"
                  },
                  "tracegroupgap": 0
                },
                "margin": {
                  "b": 0,
                  "l": 0,
                  "r": 0,
                  "t": 50
                },
                "scene": {
                  "domain": {
                    "x": [
                      0,
                      1
                    ],
                    "y": [
                      0,
                      1
                    ]
                  },
                  "xaxis": {
                    "range": [
                      0,
                      277.09000000000003
                    ],
                    "title": {
                      "text": "Price (USD)"
                    }
                  },
                  "yaxis": {
                    "range": [
                      0,
                      5.5
                    ],
                    "title": {
                      "text": "Rating"
                    }
                  },
                  "zaxis": {
                    "range": [
                      0,
                      1.1
                    ],
                    "title": {
                      "text": "Reviews (Adjusted)"
                    },
                    "type": "log"
                  }
                },
                "template": {
                  "data": {
                    "bar": [
                      {
                        "error_x": {
                          "color": "#2a3f5f"
                        },
                        "error_y": {
                          "color": "#2a3f5f"
                        },
                        "marker": {
                          "line": {
                            "color": "#E5ECF6",
                            "width": 0.5
                          },
                          "pattern": {
                            "fillmode": "overlay",
                            "size": 10,
                            "solidity": 0.2
                          }
                        },
                        "type": "bar"
                      }
                    ],
                    "barpolar": [
                      {
                        "marker": {
                          "line": {
                            "color": "#E5ECF6",
                            "width": 0.5
                          },
                          "pattern": {
                            "fillmode": "overlay",
                            "size": 10,
                            "solidity": 0.2
                          }
                        },
                        "type": "barpolar"
                      }
                    ],
                    "carpet": [
                      {
                        "aaxis": {
                          "endlinecolor": "#2a3f5f",
                          "gridcolor": "white",
                          "linecolor": "white",
                          "minorgridcolor": "white",
                          "startlinecolor": "#2a3f5f"
                        },
                        "baxis": {
                          "endlinecolor": "#2a3f5f",
                          "gridcolor": "white",
                          "linecolor": "white",
                          "minorgridcolor": "white",
                          "startlinecolor": "#2a3f5f"
                        },
                        "type": "carpet"
                      }
                    ],
                    "choropleth": [
                      {
                        "colorbar": {
                          "outlinewidth": 0,
                          "ticks": ""
                        },
                        "type": "choropleth"
                      }
                    ],
                    "contour": [
                      {
                        "colorbar": {
                          "outlinewidth": 0,
                          "ticks": ""
                        },
                        "colorscale": [
                          [
                            0,
                            "#0d0887"
                          ],
                          [
                            0.1111111111111111,
                            "#46039f"
                          ],
                          [
                            0.2222222222222222,
                            "#7201a8"
                          ],
                          [
                            0.3333333333333333,
                            "#9c179e"
                          ],
                          [
                            0.4444444444444444,
                            "#bd3786"
                          ],
                          [
                            0.5555555555555556,
                            "#d8576b"
                          ],
                          [
                            0.6666666666666666,
                            "#ed7953"
                          ],
                          [
                            0.7777777777777778,
                            "#fb9f3a"
                          ],
                          [
                            0.8888888888888888,
                            "#fdca26"
                          ],
                          [
                            1,
                            "#f0f921"
                          ]
                        ],
                        "type": "contour"
                      }
                    ],
                    "contourcarpet": [
                      {
                        "colorbar": {
                          "outlinewidth": 0,
                          "ticks": ""
                        },
                        "type": "contourcarpet"
                      }
                    ],
                    "heatmap": [
                      {
                        "colorbar": {
                          "outlinewidth": 0,
                          "ticks": ""
                        },
                        "colorscale": [
                          [
                            0,
                            "#0d0887"
                          ],
                          [
                            0.1111111111111111,
                            "#46039f"
                          ],
                          [
                            0.2222222222222222,
                            "#7201a8"
                          ],
                          [
                            0.3333333333333333,
                            "#9c179e"
                          ],
                          [
                            0.4444444444444444,
                            "#bd3786"
                          ],
                          [
                            0.5555555555555556,
                            "#d8576b"
                          ],
                          [
                            0.6666666666666666,
                            "#ed7953"
                          ],
                          [
                            0.7777777777777778,
                            "#fb9f3a"
                          ],
                          [
                            0.8888888888888888,
                            "#fdca26"
                          ],
                          [
                            1,
                            "#f0f921"
                          ]
                        ],
                        "type": "heatmap"
                      }
                    ],
                    "heatmapgl": [
                      {
                        "colorbar": {
                          "outlinewidth": 0,
                          "ticks": ""
                        },
                        "colorscale": [
                          [
                            0,
                            "#0d0887"
                          ],
                          [
                            0.1111111111111111,
                            "#46039f"
                          ],
                          [
                            0.2222222222222222,
                            "#7201a8"
                          ],
                          [
                            0.3333333333333333,
                            "#9c179e"
                          ],
                          [
                            0.4444444444444444,
                            "#bd3786"
                          ],
                          [
                            0.5555555555555556,
                            "#d8576b"
                          ],
                          [
                            0.6666666666666666,
                            "#ed7953"
                          ],
                          [
                            0.7777777777777778,
                            "#fb9f3a"
                          ],
                          [
                            0.8888888888888888,
                            "#fdca26"
                          ],
                          [
                            1,
                            "#f0f921"
                          ]
                        ],
                        "type": "heatmapgl"
                      }
                    ],
                    "histogram": [
                      {
                        "marker": {
                          "pattern": {
                            "fillmode": "overlay",
                            "size": 10,
                            "solidity": 0.2
                          }
                        },
                        "type": "histogram"
                      }
                    ],
                    "histogram2d": [
                      {
                        "colorbar": {
                          "outlinewidth": 0,
                          "ticks": ""
                        },
                        "colorscale": [
                          [
                            0,
                            "#0d0887"
                          ],
                          [
                            0.1111111111111111,
                            "#46039f"
                          ],
                          [
                            0.2222222222222222,
                            "#7201a8"
                          ],
                          [
                            0.3333333333333333,
                            "#9c179e"
                          ],
                          [
                            0.4444444444444444,
                            "#bd3786"
                          ],
                          [
                            0.5555555555555556,
                            "#d8576b"
                          ],
                          [
                            0.6666666666666666,
                            "#ed7953"
                          ],
                          [
                            0.7777777777777778,
                            "#fb9f3a"
                          ],
                          [
                            0.8888888888888888,
                            "#fdca26"
                          ],
                          [
                            1,
                            "#f0f921"
                          ]
                        ],
                        "type": "histogram2d"
                      }
                    ],
                    "histogram2dcontour": [
                      {
                        "colorbar": {
                          "outlinewidth": 0,
                          "ticks": ""
                        },
                        "colorscale": [
                          [
                            0,
                            "#0d0887"
                          ],
                          [
                            0.1111111111111111,
                            "#46039f"
                          ],
                          [
                            0.2222222222222222,
                            "#7201a8"
                          ],
                          [
                            0.3333333333333333,
                            "#9c179e"
                          ],
                          [
                            0.4444444444444444,
                            "#bd3786"
                          ],
                          [
                            0.5555555555555556,
                            "#d8576b"
                          ],
                          [
                            0.6666666666666666,
                            "#ed7953"
                          ],
                          [
                            0.7777777777777778,
                            "#fb9f3a"
                          ],
                          [
                            0.8888888888888888,
                            "#fdca26"
                          ],
                          [
                            1,
                            "#f0f921"
                          ]
                        ],
                        "type": "histogram2dcontour"
                      }
                    ],
                    "mesh3d": [
                      {
                        "colorbar": {
                          "outlinewidth": 0,
                          "ticks": ""
                        },
                        "type": "mesh3d"
                      }
                    ],
                    "parcoords": [
                      {
                        "line": {
                          "colorbar": {
                            "outlinewidth": 0,
                            "ticks": ""
                          }
                        },
                        "type": "parcoords"
                      }
                    ],
                    "pie": [
                      {
                        "automargin": true,
                        "type": "pie"
                      }
                    ],
                    "scatter": [
                      {
                        "fillpattern": {
                          "fillmode": "overlay",
                          "size": 10,
                          "solidity": 0.2
                        },
                        "type": "scatter"
                      }
                    ],
                    "scatter3d": [
                      {
                        "line": {
                          "colorbar": {
                            "outlinewidth": 0,
                            "ticks": ""
                          }
                        },
                        "marker": {
                          "colorbar": {
                            "outlinewidth": 0,
                            "ticks": ""
                          }
                        },
                        "type": "scatter3d"
                      }
                    ],
                    "scattercarpet": [
                      {
                        "marker": {
                          "colorbar": {
                            "outlinewidth": 0,
                            "ticks": ""
                          }
                        },
                        "type": "scattercarpet"
                      }
                    ],
                    "scattergeo": [
                      {
                        "marker": {
                          "colorbar": {
                            "outlinewidth": 0,
                            "ticks": ""
                          }
                        },
                        "type": "scattergeo"
                      }
                    ],
                    "scattergl": [
                      {
                        "marker": {
                          "colorbar": {
                            "outlinewidth": 0,
                            "ticks": ""
                          }
                        },
                        "type": "scattergl"
                      }
                    ],
                    "scattermapbox": [
                      {
                        "marker": {
                          "colorbar": {
                            "outlinewidth": 0,
                            "ticks": ""
                          }
                        },
                        "type": "scattermapbox"
                      }
                    ],
                    "scatterpolar": [
                      {
                        "marker": {
                          "colorbar": {
                            "outlinewidth": 0,
                            "ticks": ""
                          }
                        },
                        "type": "scatterpolar"
                      }
                    ],
                    "scatterpolargl": [
                      {
                        "marker": {
                          "colorbar": {
                            "outlinewidth": 0,
                            "ticks": ""
                          }
                        },
                        "type": "scatterpolargl"
                      }
                    ],
                    "scatterternary": [
                      {
                        "marker": {
                          "colorbar": {
                            "outlinewidth": 0,
                            "ticks": ""
                          }
                        },
                        "type": "scatterternary"
                      }
                    ],
                    "surface": [
                      {
                        "colorbar": {
                          "outlinewidth": 0,
                          "ticks": ""
                        },
                        "colorscale": [
                          [
                            0,
                            "#0d0887"
                          ],
                          [
                            0.1111111111111111,
                            "#46039f"
                          ],
                          [
                            0.2222222222222222,
                            "#7201a8"
                          ],
                          [
                            0.3333333333333333,
                            "#9c179e"
                          ],
                          [
                            0.4444444444444444,
                            "#bd3786"
                          ],
                          [
                            0.5555555555555556,
                            "#d8576b"
                          ],
                          [
                            0.6666666666666666,
                            "#ed7953"
                          ],
                          [
                            0.7777777777777778,
                            "#fb9f3a"
                          ],
                          [
                            0.8888888888888888,
                            "#fdca26"
                          ],
                          [
                            1,
                            "#f0f921"
                          ]
                        ],
                        "type": "surface"
                      }
                    ],
                    "table": [
                      {
                        "cells": {
                          "fill": {
                            "color": "#EBF0F8"
                          },
                          "line": {
                            "color": "white"
                          }
                        },
                        "header": {
                          "fill": {
                            "color": "#C8D4E3"
                          },
                          "line": {
                            "color": "white"
                          }
                        },
                        "type": "table"
                      }
                    ]
                  },
                  "layout": {
                    "annotationdefaults": {
                      "arrowcolor": "#2a3f5f",
                      "arrowhead": 0,
                      "arrowwidth": 1
                    },
                    "autotypenumbers": "strict",
                    "coloraxis": {
                      "colorbar": {
                        "outlinewidth": 0,
                        "ticks": ""
                      }
                    },
                    "colorscale": {
                      "diverging": [
                        [
                          0,
                          "#8e0152"
                        ],
                        [
                          0.1,
                          "#c51b7d"
                        ],
                        [
                          0.2,
                          "#de77ae"
                        ],
                        [
                          0.3,
                          "#f1b6da"
                        ],
                        [
                          0.4,
                          "#fde0ef"
                        ],
                        [
                          0.5,
                          "#f7f7f7"
                        ],
                        [
                          0.6,
                          "#e6f5d0"
                        ],
                        [
                          0.7,
                          "#b8e186"
                        ],
                        [
                          0.8,
                          "#7fbc41"
                        ],
                        [
                          0.9,
                          "#4d9221"
                        ],
                        [
                          1,
                          "#276419"
                        ]
                      ],
                      "sequential": [
                        [
                          0,
                          "#0d0887"
                        ],
                        [
                          0.1111111111111111,
                          "#46039f"
                        ],
                        [
                          0.2222222222222222,
                          "#7201a8"
                        ],
                        [
                          0.3333333333333333,
                          "#9c179e"
                        ],
                        [
                          0.4444444444444444,
                          "#bd3786"
                        ],
                        [
                          0.5555555555555556,
                          "#d8576b"
                        ],
                        [
                          0.6666666666666666,
                          "#ed7953"
                        ],
                        [
                          0.7777777777777778,
                          "#fb9f3a"
                        ],
                        [
                          0.8888888888888888,
                          "#fdca26"
                        ],
                        [
                          1,
                          "#f0f921"
                        ]
                      ],
                      "sequentialminus": [
                        [
                          0,
                          "#0d0887"
                        ],
                        [
                          0.1111111111111111,
                          "#46039f"
                        ],
                        [
                          0.2222222222222222,
                          "#7201a8"
                        ],
                        [
                          0.3333333333333333,
                          "#9c179e"
                        ],
                        [
                          0.4444444444444444,
                          "#bd3786"
                        ],
                        [
                          0.5555555555555556,
                          "#d8576b"
                        ],
                        [
                          0.6666666666666666,
                          "#ed7953"
                        ],
                        [
                          0.7777777777777778,
                          "#fb9f3a"
                        ],
                        [
                          0.8888888888888888,
                          "#fdca26"
                        ],
                        [
                          1,
                          "#f0f921"
                        ]
                      ]
                    },
                    "colorway": [
                      "#636efa",
                      "#EF553B",
                      "#00cc96",
                      "#ab63fa",
                      "#FFA15A",
                      "#19d3f3",
                      "#FF6692",
                      "#B6E880",
                      "#FF97FF",
                      "#FECB52"
                    ],
                    "font": {
                      "color": "#2a3f5f"
                    },
                    "geo": {
                      "bgcolor": "white",
                      "lakecolor": "white",
                      "landcolor": "#E5ECF6",
                      "showlakes": true,
                      "showland": true,
                      "subunitcolor": "white"
                    },
                    "hoverlabel": {
                      "align": "left"
                    },
                    "hovermode": "closest",
                    "mapbox": {
                      "style": "light"
                    },
                    "paper_bgcolor": "white",
                    "plot_bgcolor": "#E5ECF6",
                    "polar": {
                      "angularaxis": {
                        "gridcolor": "white",
                        "linecolor": "white",
                        "ticks": ""
                      },
                      "bgcolor": "#E5ECF6",
                      "radialaxis": {
                        "gridcolor": "white",
                        "linecolor": "white",
                        "ticks": ""
                      }
                    },
                    "scene": {
                      "xaxis": {
                        "backgroundcolor": "#E5ECF6",
                        "gridcolor": "white",
                        "gridwidth": 2,
                        "linecolor": "white",
                        "showbackground": true,
                        "ticks": "",
                        "zerolinecolor": "white"
                      },
                      "yaxis": {
                        "backgroundcolor": "#E5ECF6",
                        "gridcolor": "white",
                        "gridwidth": 2,
                        "linecolor": "white",
                        "showbackground": true,
                        "ticks": "",
                        "zerolinecolor": "white"
                      },
                      "zaxis": {
                        "backgroundcolor": "#E5ECF6",
                        "gridcolor": "white",
                        "gridwidth": 2,
                        "linecolor": "white",
                        "showbackground": true,
                        "ticks": "",
                        "zerolinecolor": "white"
                      }
                    },
                    "shapedefaults": {
                      "line": {
                        "color": "#2a3f5f"
                      }
                    },
                    "ternary": {
                      "aaxis": {
                        "gridcolor": "white",
                        "linecolor": "white",
                        "ticks": ""
                      },
                      "baxis": {
                        "gridcolor": "white",
                        "linecolor": "white",
                        "ticks": ""
                      },
                      "bgcolor": "#E5ECF6",
                      "caxis": {
                        "gridcolor": "white",
                        "linecolor": "white",
                        "ticks": ""
                      }
                    },
                    "title": {
                      "x": 0.05
                    },
                    "xaxis": {
                      "automargin": true,
                      "gridcolor": "white",
                      "linecolor": "white",
                      "ticks": "",
                      "title": {
                        "standoff": 15
                      },
                      "zerolinecolor": "white",
                      "zerolinewidth": 2
                    },
                    "yaxis": {
                      "automargin": true,
                      "gridcolor": "white",
                      "linecolor": "white",
                      "ticks": "",
                      "title": {
                        "standoff": 15
                      },
                      "zerolinecolor": "white",
                      "zerolinewidth": 2
                    }
                  }
                },
                "title": {
                  "text": "3D Point Cloud: iPhone Price, Rating, Reviews"
                }
              }
            }
          },
          "metadata": {},
          "output_type": "display_data"
        }
      ],
      "source": [
        "print('3D Scatter Plot Data Inspection:')\n",
        "print('Unique countries:', product_df['country'].unique())\n",
        "print('Price USD range:', product_df['price_usd'].min(), 'to', product_df['price_usd'].max())\n",
        "print('Rating range:', product_df['rating'].min(), 'to', product_df['rating'].max())\n",
        "print('Reviews range:', product_df['reviews'].min(), 'to', product_df['reviews'].max())\n",
        "print('Rows with zero price_usd:', (product_df['price_usd'] == 0).sum())\n",
        "print('Rows with zero rating:', (product_df['rating'] == 0).sum())\n",
        "print('Rows with zero reviews:', (product_df['reviews'] == 0).sum())\n",
        "\n",
        "valid_df = product_df[\n",
        "    (product_df['price_usd'] > 0) & \n",
        "    (product_df['price_usd'] < 5000) &  \n",
        "    (product_df['rating'] > 0)\n",
        "].copy()\n",
        "\n",
        "\n",
        "valid_df['reviews_adjusted'] = valid_df['reviews'] + 1 \n",
        "\n",
        "if valid_df.empty:\n",
        "    print('Error: No valid data for 3D scatter plot (all price_usd or rating are zero or missing).')\n",
        "else:\n",
        "    print('Valid data for plotting:')\n",
        "    print(valid_df[['title', 'country', 'price_usd', 'rating', 'reviews_adjusted']].head())\n",
        "    \n",
        "    fig = px.scatter_3d(\n",
        "        valid_df,\n",
        "        x='price_usd',\n",
        "        y='rating',\n",
        "        z='reviews_adjusted',\n",
        "        color='country',\n",
        "        size='price_usd',\n",
        "        size_max=20,\n",
        "        opacity=0.7,\n",
        "        hover_data=['title'],\n",
        "        title='3D Point Cloud: iPhone Price, Rating, Reviews'\n",
        "    )\n",
        "    fig.update_layout(\n",
        "        scene=dict(\n",
        "            xaxis_title='Price (USD)',\n",
        "            yaxis_title='Rating',\n",
        "            zaxis_title='Reviews (Adjusted)',\n",
        "            xaxis=dict(range=[0, valid_df['price_usd'].max() * 1.1]),\n",
        "            yaxis=dict(range=[0, 5.5]),\n",
        "            zaxis=dict(range=[0, valid_df['reviews_adjusted'].max() * 1.1], type='log') \n",
        "        ),\n",
        "        margin=dict(l=0, r=0, b=0, t=50)\n",
        "    )\n",
        "    fig.write_html('point_cloud.html')\n",
        "    fig.show()"
      ]
    },
    {
      "cell_type": "markdown",
      "metadata": {},
      "source": [
        "## Phase 3: User Interface with Gradio"
      ]
    },
    {
      "cell_type": "code",
      "execution_count": 80,
      "metadata": {},
      "outputs": [
        {
          "name": "stdout",
          "output_type": "stream",
          "text": [
            "* Running on local URL:  http://127.0.0.1:7864\n",
            "* To create a public link, set `share=True` in `launch()`.\n"
          ]
        },
        {
          "data": {
            "text/html": [
              "<div><iframe src=\"http://127.0.0.1:7864/\" width=\"100%\" height=\"500\" allow=\"autoplay; camera; microphone; clipboard-read; clipboard-write;\" frameborder=\"0\" allowfullscreen></iframe></div>"
            ],
            "text/plain": [
              "<IPython.core.display.HTML object>"
            ]
          },
          "metadata": {},
          "output_type": "display_data"
        },
        {
          "data": {
            "text/plain": []
          },
          "execution_count": 80,
          "metadata": {},
          "output_type": "execute_result"
        }
      ],
      "source": [
        "import gradio as gr\n",
        "import pandas as pd\n",
        "import requests\n",
        "\n",
        "RAINFOREST_API_KEY = \"1951CB94DC4246D38503225430F0A0D4\"\n",
        "COUNTRIES = {\n",
        "    'us': 'amazon.com',\n",
        "    'uk': 'amazon.co.uk',\n",
        "    'de': 'amazon.de',\n",
        "    'fr': 'amazon.fr',\n",
        "    'jp': 'amazon.co.jp'\n",
        "}\n",
        "PRODUCT_QUERY = 'Apple iPhone 14'\n",
        "\n",
        "def fetch_rainforest_data(query, country, domain):\n",
        "    params = {\n",
        "        'api_key': RAINFOREST_API_KEY,\n",
        "        'type': 'search',\n",
        "        'amazon_domain': domain,\n",
        "        'search_term': query,\n",
        "        'sort_by': 'price_low_to_high'\n",
        "    }\n",
        "    try:\n",
        "        response = requests.get('https://api.rainforestapi.com/request', params=params)\n",
        "        response.raise_for_status()\n",
        "        data = response.json()\n",
        "        return data.get('search_results', [])\n",
        "    except Exception as e:\n",
        "        print(f'Error fetching data for {country}: {e}')\n",
        "        return []\n",
        "\n",
        "def analyze_product(product_query):\n",
        "    product_data = []\n",
        "    for country, domain in COUNTRIES.items():\n",
        "        results = fetch_rainforest_data(product_query, country, domain)\n",
        "        for item in results[:5]:  \n",
        "            product_data.append({\n",
        "                'title': item.get('title', 'No title'),\n",
        "                'price': item.get('price', {}).get('value', 0),\n",
        "                'currency': item.get('price', {}).get('currency', 'USD'),\n",
        "                'rating': item.get('rating', 0),\n",
        "                'reviews': item.get('reviews', 0),\n",
        "                'country': country.upper(),\n",
        "                'asin': item.get('asin', 'No ASIN')\n",
        "            })\n",
        "\n",
        "    product_df = pd.DataFrame(product_data)\n",
        "    summary = f'Found {len(product_df)} products for \"{product_query}\":\\n'\n",
        "    summary += f'Average Price (USD): ${product_df[\"price\"].mean():.2f}\\n'\n",
        "    summary += f'Average Rating: {product_df[\"rating\"].mean():.2f}\\n'\n",
        "    summary += f'Total Reviews: {product_df[\"reviews\"].sum()}\\n'\n",
        "    return summary\n",
        "\n",
        "\n",
        "iface = gr.Interface(\n",
        "    fn=analyze_product,\n",
        "    inputs=gr.Textbox(label='Enter Product Query (e.g., iPhone 14)'),\n",
        "    outputs=gr.Textbox(label='Analysis Results'),\n",
        "    title='Amazon Product Analysis'\n",
        ")\n",
        "\n",
        "iface.launch(share=False)"
      ]
    }
  ],
  "metadata": {
    "colab": {
      "provenance": []
    },
    "kernelspec": {
      "display_name": "base",
      "language": "python",
      "name": "python3"
    },
    "language_info": {
      "codemirror_mode": {
        "name": "ipython",
        "version": 3
      },
      "file_extension": ".py",
      "mimetype": "text/x-python",
      "name": "python",
      "nbconvert_exporter": "python",
      "pygments_lexer": "ipython3",
      "version": "3.12.7"
    }
  },
  "nbformat": 4,
  "nbformat_minor": 0
}
